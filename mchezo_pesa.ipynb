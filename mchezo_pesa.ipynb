{
  "nbformat": 4,
  "nbformat_minor": 0,
  "metadata": {
    "colab": {
      "name": "mchezo_pesa",
      "provenance": []
    },
    "kernelspec": {
      "name": "python3",
      "display_name": "Python 3"
    }
  },
  "cells": [
    {
      "cell_type": "markdown",
      "metadata": {
        "id": "9Mtq1AGEqEdg",
        "colab_type": "text"
      },
      "source": [
        "#Question Definition\n",
        "As a football analyst at Mchezopesa Ltd I am to predict the probability of a win, loss or draw and predict the number of goals the hometeam is likelt to score using two datasets; fifa_ranking.csv and results.csv.\n",
        "\n",
        "**Methods**\n",
        "* Polynormial regression\n",
        "* Logistic regression\n",
        "\n",
        "#Metrics for Success\n",
        "1. Two polynormial regression models that predicts goals scored by home team and another than predicts goals scored by away team and both with RMSEs of less than 1.\n",
        "2. A logistic model that predicts wins, losses and draw with high accuracy."
      ]
    },
    {
      "cell_type": "markdown",
      "metadata": {
        "id": "1ubaWvZbH1bj",
        "colab_type": "text"
      },
      "source": [
        "#Importing libraries\n"
      ]
    },
    {
      "cell_type": "code",
      "metadata": {
        "id": "JQawQckjHvsr",
        "colab_type": "code",
        "colab": {}
      },
      "source": [
        "import numpy as np\n",
        "import pandas as pd\n",
        "from sklearn.model_selection import train_test_split\n",
        "from sklearn.linear_model import LinearRegression\n",
        "from sklearn import metrics\n",
        "import matplotlib.pyplot as plt\n",
        "import seaborn as sns\n",
        "from scipy import stats #For z test Calculation\n",
        "from statsmodels.stats import weightstats as stests #For z test calculation\n",
        "import pandas_profiling as pp\n",
        "from statistics import mean  #For mean calculation\n",
        "import warnings\n",
        "warnings.simplefilter(action='ignore', category=FutureWarning)\n",
        "%matplotlib inline"
      ],
      "execution_count": 0,
      "outputs": []
    },
    {
      "cell_type": "markdown",
      "metadata": {
        "id": "FuQNSyO3IEH9",
        "colab_type": "text"
      },
      "source": [
        "#Loading dataset"
      ]
    },
    {
      "cell_type": "code",
      "metadata": {
        "id": "IXry1mIkIHav",
        "colab_type": "code",
        "outputId": "83f29628-0ddf-4f9a-a443-af5dc66b0af3",
        "colab": {
          "base_uri": "https://localhost:8080/",
          "height": 211
        }
      },
      "source": [
        "#loading the ranking dataset\n",
        "ranking=pd.read_csv('fifa_ranking.csv')\n",
        "ranking.head()"
      ],
      "execution_count": 500,
      "outputs": [
        {
          "output_type": "execute_result",
          "data": {
            "text/html": [
              "<div>\n",
              "<style scoped>\n",
              "    .dataframe tbody tr th:only-of-type {\n",
              "        vertical-align: middle;\n",
              "    }\n",
              "\n",
              "    .dataframe tbody tr th {\n",
              "        vertical-align: top;\n",
              "    }\n",
              "\n",
              "    .dataframe thead th {\n",
              "        text-align: right;\n",
              "    }\n",
              "</style>\n",
              "<table border=\"1\" class=\"dataframe\">\n",
              "  <thead>\n",
              "    <tr style=\"text-align: right;\">\n",
              "      <th></th>\n",
              "      <th>rank</th>\n",
              "      <th>country_full</th>\n",
              "      <th>country_abrv</th>\n",
              "      <th>total_points</th>\n",
              "      <th>previous_points</th>\n",
              "      <th>rank_change</th>\n",
              "      <th>cur_year_avg</th>\n",
              "      <th>cur_year_avg_weighted</th>\n",
              "      <th>last_year_avg</th>\n",
              "      <th>last_year_avg_weighted</th>\n",
              "      <th>two_year_ago_avg</th>\n",
              "      <th>two_year_ago_weighted</th>\n",
              "      <th>three_year_ago_avg</th>\n",
              "      <th>three_year_ago_weighted</th>\n",
              "      <th>confederation</th>\n",
              "      <th>rank_date</th>\n",
              "    </tr>\n",
              "  </thead>\n",
              "  <tbody>\n",
              "    <tr>\n",
              "      <th>0</th>\n",
              "      <td>1</td>\n",
              "      <td>Germany</td>\n",
              "      <td>GER</td>\n",
              "      <td>0.0</td>\n",
              "      <td>57</td>\n",
              "      <td>0</td>\n",
              "      <td>0.0</td>\n",
              "      <td>0.0</td>\n",
              "      <td>0.0</td>\n",
              "      <td>0.0</td>\n",
              "      <td>0.0</td>\n",
              "      <td>0.0</td>\n",
              "      <td>0.0</td>\n",
              "      <td>0.0</td>\n",
              "      <td>UEFA</td>\n",
              "      <td>1993-08-08</td>\n",
              "    </tr>\n",
              "    <tr>\n",
              "      <th>1</th>\n",
              "      <td>2</td>\n",
              "      <td>Italy</td>\n",
              "      <td>ITA</td>\n",
              "      <td>0.0</td>\n",
              "      <td>57</td>\n",
              "      <td>0</td>\n",
              "      <td>0.0</td>\n",
              "      <td>0.0</td>\n",
              "      <td>0.0</td>\n",
              "      <td>0.0</td>\n",
              "      <td>0.0</td>\n",
              "      <td>0.0</td>\n",
              "      <td>0.0</td>\n",
              "      <td>0.0</td>\n",
              "      <td>UEFA</td>\n",
              "      <td>1993-08-08</td>\n",
              "    </tr>\n",
              "    <tr>\n",
              "      <th>2</th>\n",
              "      <td>3</td>\n",
              "      <td>Switzerland</td>\n",
              "      <td>SUI</td>\n",
              "      <td>0.0</td>\n",
              "      <td>50</td>\n",
              "      <td>9</td>\n",
              "      <td>0.0</td>\n",
              "      <td>0.0</td>\n",
              "      <td>0.0</td>\n",
              "      <td>0.0</td>\n",
              "      <td>0.0</td>\n",
              "      <td>0.0</td>\n",
              "      <td>0.0</td>\n",
              "      <td>0.0</td>\n",
              "      <td>UEFA</td>\n",
              "      <td>1993-08-08</td>\n",
              "    </tr>\n",
              "    <tr>\n",
              "      <th>3</th>\n",
              "      <td>4</td>\n",
              "      <td>Sweden</td>\n",
              "      <td>SWE</td>\n",
              "      <td>0.0</td>\n",
              "      <td>55</td>\n",
              "      <td>0</td>\n",
              "      <td>0.0</td>\n",
              "      <td>0.0</td>\n",
              "      <td>0.0</td>\n",
              "      <td>0.0</td>\n",
              "      <td>0.0</td>\n",
              "      <td>0.0</td>\n",
              "      <td>0.0</td>\n",
              "      <td>0.0</td>\n",
              "      <td>UEFA</td>\n",
              "      <td>1993-08-08</td>\n",
              "    </tr>\n",
              "    <tr>\n",
              "      <th>4</th>\n",
              "      <td>5</td>\n",
              "      <td>Argentina</td>\n",
              "      <td>ARG</td>\n",
              "      <td>0.0</td>\n",
              "      <td>51</td>\n",
              "      <td>5</td>\n",
              "      <td>0.0</td>\n",
              "      <td>0.0</td>\n",
              "      <td>0.0</td>\n",
              "      <td>0.0</td>\n",
              "      <td>0.0</td>\n",
              "      <td>0.0</td>\n",
              "      <td>0.0</td>\n",
              "      <td>0.0</td>\n",
              "      <td>CONMEBOL</td>\n",
              "      <td>1993-08-08</td>\n",
              "    </tr>\n",
              "  </tbody>\n",
              "</table>\n",
              "</div>"
            ],
            "text/plain": [
              "   rank country_full  ... confederation   rank_date\n",
              "0     1      Germany  ...          UEFA  1993-08-08\n",
              "1     2        Italy  ...          UEFA  1993-08-08\n",
              "2     3  Switzerland  ...          UEFA  1993-08-08\n",
              "3     4       Sweden  ...          UEFA  1993-08-08\n",
              "4     5    Argentina  ...      CONMEBOL  1993-08-08\n",
              "\n",
              "[5 rows x 16 columns]"
            ]
          },
          "metadata": {
            "tags": []
          },
          "execution_count": 500
        }
      ]
    },
    {
      "cell_type": "code",
      "metadata": {
        "id": "M6tEz_EWJz6f",
        "colab_type": "code",
        "outputId": "11cc5df9-c7e6-44a3-c4a5-193ca970db5b",
        "colab": {
          "base_uri": "https://localhost:8080/",
          "height": 292
        }
      },
      "source": [
        "#loading the results dataset\n",
        "results=pd.read_csv('results.csv')\n",
        "results.head()"
      ],
      "execution_count": 501,
      "outputs": [
        {
          "output_type": "execute_result",
          "data": {
            "text/html": [
              "<div>\n",
              "<style scoped>\n",
              "    .dataframe tbody tr th:only-of-type {\n",
              "        vertical-align: middle;\n",
              "    }\n",
              "\n",
              "    .dataframe tbody tr th {\n",
              "        vertical-align: top;\n",
              "    }\n",
              "\n",
              "    .dataframe thead th {\n",
              "        text-align: right;\n",
              "    }\n",
              "</style>\n",
              "<table border=\"1\" class=\"dataframe\">\n",
              "  <thead>\n",
              "    <tr style=\"text-align: right;\">\n",
              "      <th></th>\n",
              "      <th>date</th>\n",
              "      <th>home_team</th>\n",
              "      <th>away_team</th>\n",
              "      <th>home_score</th>\n",
              "      <th>away_score</th>\n",
              "      <th>tournament</th>\n",
              "      <th>city</th>\n",
              "      <th>country</th>\n",
              "      <th>neutral</th>\n",
              "    </tr>\n",
              "  </thead>\n",
              "  <tbody>\n",
              "    <tr>\n",
              "      <th>0</th>\n",
              "      <td>1872-11-30</td>\n",
              "      <td>Scotland</td>\n",
              "      <td>England</td>\n",
              "      <td>0</td>\n",
              "      <td>0</td>\n",
              "      <td>Friendly</td>\n",
              "      <td>Glasgow</td>\n",
              "      <td>Scotland</td>\n",
              "      <td>False</td>\n",
              "    </tr>\n",
              "    <tr>\n",
              "      <th>1</th>\n",
              "      <td>1873-03-08</td>\n",
              "      <td>England</td>\n",
              "      <td>Scotland</td>\n",
              "      <td>4</td>\n",
              "      <td>2</td>\n",
              "      <td>Friendly</td>\n",
              "      <td>London</td>\n",
              "      <td>England</td>\n",
              "      <td>False</td>\n",
              "    </tr>\n",
              "    <tr>\n",
              "      <th>2</th>\n",
              "      <td>1874-03-07</td>\n",
              "      <td>Scotland</td>\n",
              "      <td>England</td>\n",
              "      <td>2</td>\n",
              "      <td>1</td>\n",
              "      <td>Friendly</td>\n",
              "      <td>Glasgow</td>\n",
              "      <td>Scotland</td>\n",
              "      <td>False</td>\n",
              "    </tr>\n",
              "    <tr>\n",
              "      <th>3</th>\n",
              "      <td>1875-03-06</td>\n",
              "      <td>England</td>\n",
              "      <td>Scotland</td>\n",
              "      <td>2</td>\n",
              "      <td>2</td>\n",
              "      <td>Friendly</td>\n",
              "      <td>London</td>\n",
              "      <td>England</td>\n",
              "      <td>False</td>\n",
              "    </tr>\n",
              "    <tr>\n",
              "      <th>4</th>\n",
              "      <td>1876-03-04</td>\n",
              "      <td>Scotland</td>\n",
              "      <td>England</td>\n",
              "      <td>3</td>\n",
              "      <td>0</td>\n",
              "      <td>Friendly</td>\n",
              "      <td>Glasgow</td>\n",
              "      <td>Scotland</td>\n",
              "      <td>False</td>\n",
              "    </tr>\n",
              "  </tbody>\n",
              "</table>\n",
              "</div>"
            ],
            "text/plain": [
              "         date home_team away_team  ...     city   country neutral\n",
              "0  1872-11-30  Scotland   England  ...  Glasgow  Scotland   False\n",
              "1  1873-03-08   England  Scotland  ...   London   England   False\n",
              "2  1874-03-07  Scotland   England  ...  Glasgow  Scotland   False\n",
              "3  1875-03-06   England  Scotland  ...   London   England   False\n",
              "4  1876-03-04  Scotland   England  ...  Glasgow  Scotland   False\n",
              "\n",
              "[5 rows x 9 columns]"
            ]
          },
          "metadata": {
            "tags": []
          },
          "execution_count": 501
        }
      ]
    },
    {
      "cell_type": "markdown",
      "metadata": {
        "id": "4QgFAw1VXXdq",
        "colab_type": "text"
      },
      "source": [
        "#Data preparation"
      ]
    },
    {
      "cell_type": "code",
      "metadata": {
        "id": "tFdRTPmaVyBs",
        "colab_type": "code",
        "outputId": "1dd759e7-f73d-44b3-b878-7e6f241810e0",
        "colab": {
          "base_uri": "https://localhost:8080/",
          "height": 163
        }
      },
      "source": [
        "#displaying the columns in the dataset\n",
        "print(results.columns)\n",
        "print(ranking.columns)"
      ],
      "execution_count": 502,
      "outputs": [
        {
          "output_type": "stream",
          "text": [
            "Index(['date', 'home_team', 'away_team', 'home_score', 'away_score',\n",
            "       'tournament', 'city', 'country', 'neutral'],\n",
            "      dtype='object')\n",
            "Index(['rank', 'country_full', 'country_abrv', 'total_points',\n",
            "       'previous_points', 'rank_change', 'cur_year_avg',\n",
            "       'cur_year_avg_weighted', 'last_year_avg', 'last_year_avg_weighted',\n",
            "       'two_year_ago_avg', 'two_year_ago_weighted', 'three_year_ago_avg',\n",
            "       'three_year_ago_weighted', 'confederation', 'rank_date'],\n",
            "      dtype='object')\n"
          ],
          "name": "stdout"
        }
      ]
    },
    {
      "cell_type": "code",
      "metadata": {
        "id": "Jxe4miZaXa53",
        "colab_type": "code",
        "outputId": "6422b631-0c62-4c2a-f294-73f3ecce3ed5",
        "colab": {
          "base_uri": "https://localhost:8080/",
          "height": 211
        }
      },
      "source": [
        "#renaming the columns\n",
        "ranking.columns=map(str.lower, ranking.columns)\n",
        "\n",
        "\n",
        "columns= ['rank', 'country', 'country_abrv', 'total_points',\n",
        "       'previous_points', 'rank_change', 'cur_year_avg',\n",
        "       'cur_year_avg_weighted', 'last_year_avg', 'last_year_avg_weighted',\n",
        "       'two_year_ago_avg', 'two_year_ago_weighted', 'three_year_ago_avg',\n",
        "       'three_year_ago_weighted', 'confederation', 'rank_date']      \n",
        "ranking.columns=columns\n",
        "ranking.head()"
      ],
      "execution_count": 503,
      "outputs": [
        {
          "output_type": "execute_result",
          "data": {
            "text/html": [
              "<div>\n",
              "<style scoped>\n",
              "    .dataframe tbody tr th:only-of-type {\n",
              "        vertical-align: middle;\n",
              "    }\n",
              "\n",
              "    .dataframe tbody tr th {\n",
              "        vertical-align: top;\n",
              "    }\n",
              "\n",
              "    .dataframe thead th {\n",
              "        text-align: right;\n",
              "    }\n",
              "</style>\n",
              "<table border=\"1\" class=\"dataframe\">\n",
              "  <thead>\n",
              "    <tr style=\"text-align: right;\">\n",
              "      <th></th>\n",
              "      <th>rank</th>\n",
              "      <th>country</th>\n",
              "      <th>country_abrv</th>\n",
              "      <th>total_points</th>\n",
              "      <th>previous_points</th>\n",
              "      <th>rank_change</th>\n",
              "      <th>cur_year_avg</th>\n",
              "      <th>cur_year_avg_weighted</th>\n",
              "      <th>last_year_avg</th>\n",
              "      <th>last_year_avg_weighted</th>\n",
              "      <th>two_year_ago_avg</th>\n",
              "      <th>two_year_ago_weighted</th>\n",
              "      <th>three_year_ago_avg</th>\n",
              "      <th>three_year_ago_weighted</th>\n",
              "      <th>confederation</th>\n",
              "      <th>rank_date</th>\n",
              "    </tr>\n",
              "  </thead>\n",
              "  <tbody>\n",
              "    <tr>\n",
              "      <th>0</th>\n",
              "      <td>1</td>\n",
              "      <td>Germany</td>\n",
              "      <td>GER</td>\n",
              "      <td>0.0</td>\n",
              "      <td>57</td>\n",
              "      <td>0</td>\n",
              "      <td>0.0</td>\n",
              "      <td>0.0</td>\n",
              "      <td>0.0</td>\n",
              "      <td>0.0</td>\n",
              "      <td>0.0</td>\n",
              "      <td>0.0</td>\n",
              "      <td>0.0</td>\n",
              "      <td>0.0</td>\n",
              "      <td>UEFA</td>\n",
              "      <td>1993-08-08</td>\n",
              "    </tr>\n",
              "    <tr>\n",
              "      <th>1</th>\n",
              "      <td>2</td>\n",
              "      <td>Italy</td>\n",
              "      <td>ITA</td>\n",
              "      <td>0.0</td>\n",
              "      <td>57</td>\n",
              "      <td>0</td>\n",
              "      <td>0.0</td>\n",
              "      <td>0.0</td>\n",
              "      <td>0.0</td>\n",
              "      <td>0.0</td>\n",
              "      <td>0.0</td>\n",
              "      <td>0.0</td>\n",
              "      <td>0.0</td>\n",
              "      <td>0.0</td>\n",
              "      <td>UEFA</td>\n",
              "      <td>1993-08-08</td>\n",
              "    </tr>\n",
              "    <tr>\n",
              "      <th>2</th>\n",
              "      <td>3</td>\n",
              "      <td>Switzerland</td>\n",
              "      <td>SUI</td>\n",
              "      <td>0.0</td>\n",
              "      <td>50</td>\n",
              "      <td>9</td>\n",
              "      <td>0.0</td>\n",
              "      <td>0.0</td>\n",
              "      <td>0.0</td>\n",
              "      <td>0.0</td>\n",
              "      <td>0.0</td>\n",
              "      <td>0.0</td>\n",
              "      <td>0.0</td>\n",
              "      <td>0.0</td>\n",
              "      <td>UEFA</td>\n",
              "      <td>1993-08-08</td>\n",
              "    </tr>\n",
              "    <tr>\n",
              "      <th>3</th>\n",
              "      <td>4</td>\n",
              "      <td>Sweden</td>\n",
              "      <td>SWE</td>\n",
              "      <td>0.0</td>\n",
              "      <td>55</td>\n",
              "      <td>0</td>\n",
              "      <td>0.0</td>\n",
              "      <td>0.0</td>\n",
              "      <td>0.0</td>\n",
              "      <td>0.0</td>\n",
              "      <td>0.0</td>\n",
              "      <td>0.0</td>\n",
              "      <td>0.0</td>\n",
              "      <td>0.0</td>\n",
              "      <td>UEFA</td>\n",
              "      <td>1993-08-08</td>\n",
              "    </tr>\n",
              "    <tr>\n",
              "      <th>4</th>\n",
              "      <td>5</td>\n",
              "      <td>Argentina</td>\n",
              "      <td>ARG</td>\n",
              "      <td>0.0</td>\n",
              "      <td>51</td>\n",
              "      <td>5</td>\n",
              "      <td>0.0</td>\n",
              "      <td>0.0</td>\n",
              "      <td>0.0</td>\n",
              "      <td>0.0</td>\n",
              "      <td>0.0</td>\n",
              "      <td>0.0</td>\n",
              "      <td>0.0</td>\n",
              "      <td>0.0</td>\n",
              "      <td>CONMEBOL</td>\n",
              "      <td>1993-08-08</td>\n",
              "    </tr>\n",
              "  </tbody>\n",
              "</table>\n",
              "</div>"
            ],
            "text/plain": [
              "   rank      country  ... confederation   rank_date\n",
              "0     1      Germany  ...          UEFA  1993-08-08\n",
              "1     2        Italy  ...          UEFA  1993-08-08\n",
              "2     3  Switzerland  ...          UEFA  1993-08-08\n",
              "3     4       Sweden  ...          UEFA  1993-08-08\n",
              "4     5    Argentina  ...      CONMEBOL  1993-08-08\n",
              "\n",
              "[5 rows x 16 columns]"
            ]
          },
          "metadata": {
            "tags": []
          },
          "execution_count": 503
        }
      ]
    },
    {
      "cell_type": "code",
      "metadata": {
        "id": "sdYfgDdpcMKv",
        "colab_type": "code",
        "outputId": "19936a98-41f1-4aa3-b354-6f25649cf460",
        "colab": {
          "base_uri": "https://localhost:8080/",
          "height": 50
        }
      },
      "source": [
        "#Determining the shape of our datasets\n",
        "def df_shape(a,b):\n",
        "  print(a.shape)\n",
        "  print(b.shape)\n",
        "\n",
        "df_shape(ranking, results)"
      ],
      "execution_count": 504,
      "outputs": [
        {
          "output_type": "stream",
          "text": [
            "(57793, 16)\n",
            "(40839, 9)\n"
          ],
          "name": "stdout"
        }
      ]
    },
    {
      "cell_type": "code",
      "metadata": {
        "id": "2ePdJ2x0_X7V",
        "colab_type": "code",
        "colab": {}
      },
      "source": [
        "ranking.drop(columns=['cur_year_avg', 'cur_year_avg_weighted',\n",
        "       'last_year_avg', 'last_year_avg_weighted', 'two_year_ago_avg',\n",
        "       'two_year_ago_weighted', 'three_year_ago_avg',\n",
        "       'three_year_ago_weighted', 'confederation', 'country_abrv'], inplace=True)"
      ],
      "execution_count": 0,
      "outputs": []
    },
    {
      "cell_type": "code",
      "metadata": {
        "id": "n_6YCcyN0o3c",
        "colab_type": "code",
        "colab": {}
      },
      "source": [
        "#changing the rank date column to datetime datatype then splitting into month and year\n",
        "\n",
        "\n",
        "ranking.rank_date = ranking.rank_date.apply(lambda x: x.replace('/', '-'))\n",
        "\n",
        "ranking.rank_date = pd.to_datetime(ranking.rank_date)\n",
        "\n",
        "ranking['year'] = ranking.rank_date.dt.year\n",
        "\n",
        "ranking['month'] = ranking.rank_date.dt.month"
      ],
      "execution_count": 0,
      "outputs": []
    },
    {
      "cell_type": "code",
      "metadata": {
        "id": "EAM2J9wU1OEl",
        "colab_type": "code",
        "outputId": "a6f92def-ae24-48ce-8ed6-66a6199a8122",
        "colab": {
          "base_uri": "https://localhost:8080/",
          "height": 211
        }
      },
      "source": [
        "#checking if the datatype change and column split was succefull\n",
        "ranking.head()"
      ],
      "execution_count": 507,
      "outputs": [
        {
          "output_type": "execute_result",
          "data": {
            "text/html": [
              "<div>\n",
              "<style scoped>\n",
              "    .dataframe tbody tr th:only-of-type {\n",
              "        vertical-align: middle;\n",
              "    }\n",
              "\n",
              "    .dataframe tbody tr th {\n",
              "        vertical-align: top;\n",
              "    }\n",
              "\n",
              "    .dataframe thead th {\n",
              "        text-align: right;\n",
              "    }\n",
              "</style>\n",
              "<table border=\"1\" class=\"dataframe\">\n",
              "  <thead>\n",
              "    <tr style=\"text-align: right;\">\n",
              "      <th></th>\n",
              "      <th>rank</th>\n",
              "      <th>country</th>\n",
              "      <th>total_points</th>\n",
              "      <th>previous_points</th>\n",
              "      <th>rank_change</th>\n",
              "      <th>rank_date</th>\n",
              "      <th>year</th>\n",
              "      <th>month</th>\n",
              "    </tr>\n",
              "  </thead>\n",
              "  <tbody>\n",
              "    <tr>\n",
              "      <th>0</th>\n",
              "      <td>1</td>\n",
              "      <td>Germany</td>\n",
              "      <td>0.0</td>\n",
              "      <td>57</td>\n",
              "      <td>0</td>\n",
              "      <td>1993-08-08</td>\n",
              "      <td>1993</td>\n",
              "      <td>8</td>\n",
              "    </tr>\n",
              "    <tr>\n",
              "      <th>1</th>\n",
              "      <td>2</td>\n",
              "      <td>Italy</td>\n",
              "      <td>0.0</td>\n",
              "      <td>57</td>\n",
              "      <td>0</td>\n",
              "      <td>1993-08-08</td>\n",
              "      <td>1993</td>\n",
              "      <td>8</td>\n",
              "    </tr>\n",
              "    <tr>\n",
              "      <th>2</th>\n",
              "      <td>3</td>\n",
              "      <td>Switzerland</td>\n",
              "      <td>0.0</td>\n",
              "      <td>50</td>\n",
              "      <td>9</td>\n",
              "      <td>1993-08-08</td>\n",
              "      <td>1993</td>\n",
              "      <td>8</td>\n",
              "    </tr>\n",
              "    <tr>\n",
              "      <th>3</th>\n",
              "      <td>4</td>\n",
              "      <td>Sweden</td>\n",
              "      <td>0.0</td>\n",
              "      <td>55</td>\n",
              "      <td>0</td>\n",
              "      <td>1993-08-08</td>\n",
              "      <td>1993</td>\n",
              "      <td>8</td>\n",
              "    </tr>\n",
              "    <tr>\n",
              "      <th>4</th>\n",
              "      <td>5</td>\n",
              "      <td>Argentina</td>\n",
              "      <td>0.0</td>\n",
              "      <td>51</td>\n",
              "      <td>5</td>\n",
              "      <td>1993-08-08</td>\n",
              "      <td>1993</td>\n",
              "      <td>8</td>\n",
              "    </tr>\n",
              "  </tbody>\n",
              "</table>\n",
              "</div>"
            ],
            "text/plain": [
              "   rank      country  total_points  ...  rank_date  year month\n",
              "0     1      Germany           0.0  ... 1993-08-08  1993     8\n",
              "1     2        Italy           0.0  ... 1993-08-08  1993     8\n",
              "2     3  Switzerland           0.0  ... 1993-08-08  1993     8\n",
              "3     4       Sweden           0.0  ... 1993-08-08  1993     8\n",
              "4     5    Argentina           0.0  ... 1993-08-08  1993     8\n",
              "\n",
              "[5 rows x 8 columns]"
            ]
          },
          "metadata": {
            "tags": []
          },
          "execution_count": 507
        }
      ]
    },
    {
      "cell_type": "code",
      "metadata": {
        "id": "xPD90pRz2M2Y",
        "colab_type": "code",
        "colab": {}
      },
      "source": [
        "#changing the rank date column to datetime then splitting into month and year on the results\n",
        "# dataset\n",
        "\n",
        "\n",
        "results.date = results.date.apply(lambda x: x.replace('/', '-'))\n",
        "\n",
        "results.date = pd.to_datetime(results.date)\n",
        "\n",
        "results['year'] = results.date.dt.year\n",
        "\n",
        "results['month'] = results.date.dt.month"
      ],
      "execution_count": 0,
      "outputs": []
    },
    {
      "cell_type": "code",
      "metadata": {
        "id": "g1riIVtH3gde",
        "colab_type": "code",
        "outputId": "ad3e3008-51b0-481f-dc4e-c4a656fb64e9",
        "colab": {
          "base_uri": "https://localhost:8080/",
          "height": 33
        }
      },
      "source": [
        "#removing data from the years before 1993 because the fifa ranking data starts from 1993\n",
        "results= results[results['date']>='1993']\n",
        "#confirming the data only has data from 1993\n",
        "results['year'].min()"
      ],
      "execution_count": 509,
      "outputs": [
        {
          "output_type": "execute_result",
          "data": {
            "text/plain": [
              "1993"
            ]
          },
          "metadata": {
            "tags": []
          },
          "execution_count": 509
        }
      ]
    },
    {
      "cell_type": "code",
      "metadata": {
        "id": "p7X2qqFm2mzB",
        "colab_type": "code",
        "outputId": "b2fc225b-81bc-41d9-ca24-ebae528f4c89",
        "colab": {
          "base_uri": "https://localhost:8080/",
          "height": 292
        }
      },
      "source": [
        "results.head()"
      ],
      "execution_count": 510,
      "outputs": [
        {
          "output_type": "execute_result",
          "data": {
            "text/html": [
              "<div>\n",
              "<style scoped>\n",
              "    .dataframe tbody tr th:only-of-type {\n",
              "        vertical-align: middle;\n",
              "    }\n",
              "\n",
              "    .dataframe tbody tr th {\n",
              "        vertical-align: top;\n",
              "    }\n",
              "\n",
              "    .dataframe thead th {\n",
              "        text-align: right;\n",
              "    }\n",
              "</style>\n",
              "<table border=\"1\" class=\"dataframe\">\n",
              "  <thead>\n",
              "    <tr style=\"text-align: right;\">\n",
              "      <th></th>\n",
              "      <th>date</th>\n",
              "      <th>home_team</th>\n",
              "      <th>away_team</th>\n",
              "      <th>home_score</th>\n",
              "      <th>away_score</th>\n",
              "      <th>tournament</th>\n",
              "      <th>city</th>\n",
              "      <th>country</th>\n",
              "      <th>neutral</th>\n",
              "      <th>year</th>\n",
              "      <th>month</th>\n",
              "    </tr>\n",
              "  </thead>\n",
              "  <tbody>\n",
              "    <tr>\n",
              "      <th>17361</th>\n",
              "      <td>1993-01-01</td>\n",
              "      <td>Ghana</td>\n",
              "      <td>Mali</td>\n",
              "      <td>1</td>\n",
              "      <td>1</td>\n",
              "      <td>Friendly</td>\n",
              "      <td>Libreville</td>\n",
              "      <td>Gabon</td>\n",
              "      <td>True</td>\n",
              "      <td>1993</td>\n",
              "      <td>1</td>\n",
              "    </tr>\n",
              "    <tr>\n",
              "      <th>17362</th>\n",
              "      <td>1993-01-02</td>\n",
              "      <td>Gabon</td>\n",
              "      <td>Burkina Faso</td>\n",
              "      <td>1</td>\n",
              "      <td>1</td>\n",
              "      <td>Friendly</td>\n",
              "      <td>Libreville</td>\n",
              "      <td>Gabon</td>\n",
              "      <td>False</td>\n",
              "      <td>1993</td>\n",
              "      <td>1</td>\n",
              "    </tr>\n",
              "    <tr>\n",
              "      <th>17363</th>\n",
              "      <td>1993-01-02</td>\n",
              "      <td>Kuwait</td>\n",
              "      <td>Lebanon</td>\n",
              "      <td>2</td>\n",
              "      <td>0</td>\n",
              "      <td>Friendly</td>\n",
              "      <td>Kuwait City</td>\n",
              "      <td>Kuwait</td>\n",
              "      <td>False</td>\n",
              "      <td>1993</td>\n",
              "      <td>1</td>\n",
              "    </tr>\n",
              "    <tr>\n",
              "      <th>17364</th>\n",
              "      <td>1993-01-03</td>\n",
              "      <td>Burkina Faso</td>\n",
              "      <td>Mali</td>\n",
              "      <td>1</td>\n",
              "      <td>0</td>\n",
              "      <td>Friendly</td>\n",
              "      <td>Libreville</td>\n",
              "      <td>Gabon</td>\n",
              "      <td>True</td>\n",
              "      <td>1993</td>\n",
              "      <td>1</td>\n",
              "    </tr>\n",
              "    <tr>\n",
              "      <th>17365</th>\n",
              "      <td>1993-01-03</td>\n",
              "      <td>Gabon</td>\n",
              "      <td>Ghana</td>\n",
              "      <td>2</td>\n",
              "      <td>3</td>\n",
              "      <td>Friendly</td>\n",
              "      <td>Libreville</td>\n",
              "      <td>Gabon</td>\n",
              "      <td>False</td>\n",
              "      <td>1993</td>\n",
              "      <td>1</td>\n",
              "    </tr>\n",
              "  </tbody>\n",
              "</table>\n",
              "</div>"
            ],
            "text/plain": [
              "            date     home_team     away_team  ...  neutral  year month\n",
              "17361 1993-01-01         Ghana          Mali  ...     True  1993     1\n",
              "17362 1993-01-02         Gabon  Burkina Faso  ...    False  1993     1\n",
              "17363 1993-01-02        Kuwait       Lebanon  ...    False  1993     1\n",
              "17364 1993-01-03  Burkina Faso          Mali  ...     True  1993     1\n",
              "17365 1993-01-03         Gabon         Ghana  ...    False  1993     1\n",
              "\n",
              "[5 rows x 11 columns]"
            ]
          },
          "metadata": {
            "tags": []
          },
          "execution_count": 510
        }
      ]
    },
    {
      "cell_type": "code",
      "metadata": {
        "id": "r1IJzkJ54aB5",
        "colab_type": "code",
        "outputId": "031209f7-43fd-4e6a-e574-def7cb9a6630",
        "colab": {
          "base_uri": "https://localhost:8080/",
          "height": 33
        }
      },
      "source": [
        "#checking shape of results dataframe\n",
        "results.shape"
      ],
      "execution_count": 511,
      "outputs": [
        {
          "output_type": "execute_result",
          "data": {
            "text/plain": [
              "(23478, 11)"
            ]
          },
          "metadata": {
            "tags": []
          },
          "execution_count": 511
        }
      ]
    },
    {
      "cell_type": "markdown",
      "metadata": {
        "id": "J2xmzMK55Y-6",
        "colab_type": "text"
      },
      "source": [
        "#Merging of datasets"
      ]
    },
    {
      "cell_type": "code",
      "metadata": {
        "id": "KNbiMVwumAgo",
        "colab_type": "code",
        "outputId": "a7d0660b-7a13-4d24-fe19-1500f505bc1f",
        "colab": {
          "base_uri": "https://localhost:8080/",
          "height": 341
        }
      },
      "source": [
        "\n",
        "#merging the ranking and results dataset to get the merged_home dataset\n",
        "merged_home=pd.merge(ranking, results, how='inner', left_on = ['year', 'month','country'], right_on = ['year', 'month','home_team'])\n",
        "merged_home.head()"
      ],
      "execution_count": 512,
      "outputs": [
        {
          "output_type": "execute_result",
          "data": {
            "text/html": [
              "<div>\n",
              "<style scoped>\n",
              "    .dataframe tbody tr th:only-of-type {\n",
              "        vertical-align: middle;\n",
              "    }\n",
              "\n",
              "    .dataframe tbody tr th {\n",
              "        vertical-align: top;\n",
              "    }\n",
              "\n",
              "    .dataframe thead th {\n",
              "        text-align: right;\n",
              "    }\n",
              "</style>\n",
              "<table border=\"1\" class=\"dataframe\">\n",
              "  <thead>\n",
              "    <tr style=\"text-align: right;\">\n",
              "      <th></th>\n",
              "      <th>rank</th>\n",
              "      <th>country_x</th>\n",
              "      <th>total_points</th>\n",
              "      <th>previous_points</th>\n",
              "      <th>rank_change</th>\n",
              "      <th>rank_date</th>\n",
              "      <th>year</th>\n",
              "      <th>month</th>\n",
              "      <th>date</th>\n",
              "      <th>home_team</th>\n",
              "      <th>away_team</th>\n",
              "      <th>home_score</th>\n",
              "      <th>away_score</th>\n",
              "      <th>tournament</th>\n",
              "      <th>city</th>\n",
              "      <th>country_y</th>\n",
              "      <th>neutral</th>\n",
              "    </tr>\n",
              "  </thead>\n",
              "  <tbody>\n",
              "    <tr>\n",
              "      <th>0</th>\n",
              "      <td>4</td>\n",
              "      <td>Sweden</td>\n",
              "      <td>0.0</td>\n",
              "      <td>55</td>\n",
              "      <td>0</td>\n",
              "      <td>1993-08-08</td>\n",
              "      <td>1993</td>\n",
              "      <td>8</td>\n",
              "      <td>1993-08-11</td>\n",
              "      <td>Sweden</td>\n",
              "      <td>Switzerland</td>\n",
              "      <td>1</td>\n",
              "      <td>2</td>\n",
              "      <td>Friendly</td>\n",
              "      <td>Borås</td>\n",
              "      <td>Sweden</td>\n",
              "      <td>False</td>\n",
              "    </tr>\n",
              "    <tr>\n",
              "      <th>1</th>\n",
              "      <td>4</td>\n",
              "      <td>Sweden</td>\n",
              "      <td>0.0</td>\n",
              "      <td>55</td>\n",
              "      <td>0</td>\n",
              "      <td>1993-08-08</td>\n",
              "      <td>1993</td>\n",
              "      <td>8</td>\n",
              "      <td>1993-08-22</td>\n",
              "      <td>Sweden</td>\n",
              "      <td>France</td>\n",
              "      <td>1</td>\n",
              "      <td>1</td>\n",
              "      <td>FIFA World Cup qualification</td>\n",
              "      <td>Solna</td>\n",
              "      <td>Sweden</td>\n",
              "      <td>False</td>\n",
              "    </tr>\n",
              "    <tr>\n",
              "      <th>2</th>\n",
              "      <td>5</td>\n",
              "      <td>Argentina</td>\n",
              "      <td>0.0</td>\n",
              "      <td>51</td>\n",
              "      <td>5</td>\n",
              "      <td>1993-08-08</td>\n",
              "      <td>1993</td>\n",
              "      <td>8</td>\n",
              "      <td>1993-08-22</td>\n",
              "      <td>Argentina</td>\n",
              "      <td>Peru</td>\n",
              "      <td>2</td>\n",
              "      <td>1</td>\n",
              "      <td>FIFA World Cup qualification</td>\n",
              "      <td>Buenos Aires</td>\n",
              "      <td>Argentina</td>\n",
              "      <td>False</td>\n",
              "    </tr>\n",
              "    <tr>\n",
              "      <th>3</th>\n",
              "      <td>5</td>\n",
              "      <td>Argentina</td>\n",
              "      <td>0.0</td>\n",
              "      <td>51</td>\n",
              "      <td>5</td>\n",
              "      <td>1993-08-08</td>\n",
              "      <td>1993</td>\n",
              "      <td>8</td>\n",
              "      <td>1993-08-29</td>\n",
              "      <td>Argentina</td>\n",
              "      <td>Paraguay</td>\n",
              "      <td>0</td>\n",
              "      <td>0</td>\n",
              "      <td>FIFA World Cup qualification</td>\n",
              "      <td>Buenos Aires</td>\n",
              "      <td>Argentina</td>\n",
              "      <td>False</td>\n",
              "    </tr>\n",
              "    <tr>\n",
              "      <th>4</th>\n",
              "      <td>8</td>\n",
              "      <td>Brazil</td>\n",
              "      <td>0.0</td>\n",
              "      <td>55</td>\n",
              "      <td>-5</td>\n",
              "      <td>1993-08-08</td>\n",
              "      <td>1993</td>\n",
              "      <td>8</td>\n",
              "      <td>1993-08-08</td>\n",
              "      <td>Brazil</td>\n",
              "      <td>Mexico</td>\n",
              "      <td>1</td>\n",
              "      <td>1</td>\n",
              "      <td>Friendly</td>\n",
              "      <td>Maceió</td>\n",
              "      <td>Brazil</td>\n",
              "      <td>False</td>\n",
              "    </tr>\n",
              "  </tbody>\n",
              "</table>\n",
              "</div>"
            ],
            "text/plain": [
              "   rank  country_x  total_points  ...          city  country_y neutral\n",
              "0     4     Sweden           0.0  ...         Borås     Sweden   False\n",
              "1     4     Sweden           0.0  ...         Solna     Sweden   False\n",
              "2     5  Argentina           0.0  ...  Buenos Aires  Argentina   False\n",
              "3     5  Argentina           0.0  ...  Buenos Aires  Argentina   False\n",
              "4     8     Brazil           0.0  ...        Maceió     Brazil   False\n",
              "\n",
              "[5 rows x 17 columns]"
            ]
          },
          "metadata": {
            "tags": []
          },
          "execution_count": 512
        }
      ]
    },
    {
      "cell_type": "code",
      "metadata": {
        "id": "nDdJVYIaAC5F",
        "colab_type": "code",
        "colab": {}
      },
      "source": [
        "#dropping irrelevant columns and renaming some columns\n",
        "merged_home.drop(columns=['country_y','rank_date','city','date'], inplace=True)\n"
      ],
      "execution_count": 0,
      "outputs": []
    },
    {
      "cell_type": "code",
      "metadata": {
        "id": "Pc7UVGC3C390",
        "colab_type": "code",
        "colab": {}
      },
      "source": [
        "#Renaming the columns to names that are easier to use\n",
        "merged_home.country_x=merged_home.rename({'country_x':'country','rank':'rank_home'}, axis = 1, inplace = True)"
      ],
      "execution_count": 0,
      "outputs": []
    },
    {
      "cell_type": "code",
      "metadata": {
        "id": "-BAbS0owAWJV",
        "colab_type": "code",
        "outputId": "2f02c793-aa63-4750-e752-8b0a673454a9",
        "colab": {
          "base_uri": "https://localhost:8080/",
          "height": 308
        }
      },
      "source": [
        "merged_home.head()"
      ],
      "execution_count": 515,
      "outputs": [
        {
          "output_type": "execute_result",
          "data": {
            "text/html": [
              "<div>\n",
              "<style scoped>\n",
              "    .dataframe tbody tr th:only-of-type {\n",
              "        vertical-align: middle;\n",
              "    }\n",
              "\n",
              "    .dataframe tbody tr th {\n",
              "        vertical-align: top;\n",
              "    }\n",
              "\n",
              "    .dataframe thead th {\n",
              "        text-align: right;\n",
              "    }\n",
              "</style>\n",
              "<table border=\"1\" class=\"dataframe\">\n",
              "  <thead>\n",
              "    <tr style=\"text-align: right;\">\n",
              "      <th></th>\n",
              "      <th>rank_home</th>\n",
              "      <th>country</th>\n",
              "      <th>total_points</th>\n",
              "      <th>previous_points</th>\n",
              "      <th>rank_change</th>\n",
              "      <th>year</th>\n",
              "      <th>month</th>\n",
              "      <th>home_team</th>\n",
              "      <th>away_team</th>\n",
              "      <th>home_score</th>\n",
              "      <th>away_score</th>\n",
              "      <th>tournament</th>\n",
              "      <th>neutral</th>\n",
              "    </tr>\n",
              "  </thead>\n",
              "  <tbody>\n",
              "    <tr>\n",
              "      <th>0</th>\n",
              "      <td>4</td>\n",
              "      <td>Sweden</td>\n",
              "      <td>0.0</td>\n",
              "      <td>55</td>\n",
              "      <td>0</td>\n",
              "      <td>1993</td>\n",
              "      <td>8</td>\n",
              "      <td>Sweden</td>\n",
              "      <td>Switzerland</td>\n",
              "      <td>1</td>\n",
              "      <td>2</td>\n",
              "      <td>Friendly</td>\n",
              "      <td>False</td>\n",
              "    </tr>\n",
              "    <tr>\n",
              "      <th>1</th>\n",
              "      <td>4</td>\n",
              "      <td>Sweden</td>\n",
              "      <td>0.0</td>\n",
              "      <td>55</td>\n",
              "      <td>0</td>\n",
              "      <td>1993</td>\n",
              "      <td>8</td>\n",
              "      <td>Sweden</td>\n",
              "      <td>France</td>\n",
              "      <td>1</td>\n",
              "      <td>1</td>\n",
              "      <td>FIFA World Cup qualification</td>\n",
              "      <td>False</td>\n",
              "    </tr>\n",
              "    <tr>\n",
              "      <th>2</th>\n",
              "      <td>5</td>\n",
              "      <td>Argentina</td>\n",
              "      <td>0.0</td>\n",
              "      <td>51</td>\n",
              "      <td>5</td>\n",
              "      <td>1993</td>\n",
              "      <td>8</td>\n",
              "      <td>Argentina</td>\n",
              "      <td>Peru</td>\n",
              "      <td>2</td>\n",
              "      <td>1</td>\n",
              "      <td>FIFA World Cup qualification</td>\n",
              "      <td>False</td>\n",
              "    </tr>\n",
              "    <tr>\n",
              "      <th>3</th>\n",
              "      <td>5</td>\n",
              "      <td>Argentina</td>\n",
              "      <td>0.0</td>\n",
              "      <td>51</td>\n",
              "      <td>5</td>\n",
              "      <td>1993</td>\n",
              "      <td>8</td>\n",
              "      <td>Argentina</td>\n",
              "      <td>Paraguay</td>\n",
              "      <td>0</td>\n",
              "      <td>0</td>\n",
              "      <td>FIFA World Cup qualification</td>\n",
              "      <td>False</td>\n",
              "    </tr>\n",
              "    <tr>\n",
              "      <th>4</th>\n",
              "      <td>8</td>\n",
              "      <td>Brazil</td>\n",
              "      <td>0.0</td>\n",
              "      <td>55</td>\n",
              "      <td>-5</td>\n",
              "      <td>1993</td>\n",
              "      <td>8</td>\n",
              "      <td>Brazil</td>\n",
              "      <td>Mexico</td>\n",
              "      <td>1</td>\n",
              "      <td>1</td>\n",
              "      <td>Friendly</td>\n",
              "      <td>False</td>\n",
              "    </tr>\n",
              "  </tbody>\n",
              "</table>\n",
              "</div>"
            ],
            "text/plain": [
              "   rank_home    country  ...                    tournament  neutral\n",
              "0          4     Sweden  ...                      Friendly    False\n",
              "1          4     Sweden  ...  FIFA World Cup qualification    False\n",
              "2          5  Argentina  ...  FIFA World Cup qualification    False\n",
              "3          5  Argentina  ...  FIFA World Cup qualification    False\n",
              "4          8     Brazil  ...                      Friendly    False\n",
              "\n",
              "[5 rows x 13 columns]"
            ]
          },
          "metadata": {
            "tags": []
          },
          "execution_count": 515
        }
      ]
    },
    {
      "cell_type": "code",
      "metadata": {
        "id": "-vjfs3_R55vh",
        "colab_type": "code",
        "outputId": "083c7451-23d5-4cde-b14a-44ad62e9fd85",
        "colab": {
          "base_uri": "https://localhost:8080/",
          "height": 357
        }
      },
      "source": [
        "\n",
        "#merging the ranking and results dataset to get the merged_away dataset\n",
        "merged_away=pd.merge(ranking, results, how='inner', left_on = ['year', 'month','country'], right_on = ['year', 'month','away_team'])\n",
        "merged_away.head()"
      ],
      "execution_count": 516,
      "outputs": [
        {
          "output_type": "execute_result",
          "data": {
            "text/html": [
              "<div>\n",
              "<style scoped>\n",
              "    .dataframe tbody tr th:only-of-type {\n",
              "        vertical-align: middle;\n",
              "    }\n",
              "\n",
              "    .dataframe tbody tr th {\n",
              "        vertical-align: top;\n",
              "    }\n",
              "\n",
              "    .dataframe thead th {\n",
              "        text-align: right;\n",
              "    }\n",
              "</style>\n",
              "<table border=\"1\" class=\"dataframe\">\n",
              "  <thead>\n",
              "    <tr style=\"text-align: right;\">\n",
              "      <th></th>\n",
              "      <th>rank</th>\n",
              "      <th>country_x</th>\n",
              "      <th>total_points</th>\n",
              "      <th>previous_points</th>\n",
              "      <th>rank_change</th>\n",
              "      <th>rank_date</th>\n",
              "      <th>year</th>\n",
              "      <th>month</th>\n",
              "      <th>date</th>\n",
              "      <th>home_team</th>\n",
              "      <th>away_team</th>\n",
              "      <th>home_score</th>\n",
              "      <th>away_score</th>\n",
              "      <th>tournament</th>\n",
              "      <th>city</th>\n",
              "      <th>country_y</th>\n",
              "      <th>neutral</th>\n",
              "    </tr>\n",
              "  </thead>\n",
              "  <tbody>\n",
              "    <tr>\n",
              "      <th>0</th>\n",
              "      <td>3</td>\n",
              "      <td>Switzerland</td>\n",
              "      <td>0.0</td>\n",
              "      <td>50</td>\n",
              "      <td>9</td>\n",
              "      <td>1993-08-08</td>\n",
              "      <td>1993</td>\n",
              "      <td>8</td>\n",
              "      <td>1993-08-11</td>\n",
              "      <td>Sweden</td>\n",
              "      <td>Switzerland</td>\n",
              "      <td>1</td>\n",
              "      <td>2</td>\n",
              "      <td>Friendly</td>\n",
              "      <td>Borås</td>\n",
              "      <td>Sweden</td>\n",
              "      <td>False</td>\n",
              "    </tr>\n",
              "    <tr>\n",
              "      <th>1</th>\n",
              "      <td>5</td>\n",
              "      <td>Argentina</td>\n",
              "      <td>0.0</td>\n",
              "      <td>51</td>\n",
              "      <td>5</td>\n",
              "      <td>1993-08-08</td>\n",
              "      <td>1993</td>\n",
              "      <td>8</td>\n",
              "      <td>1993-08-01</td>\n",
              "      <td>Peru</td>\n",
              "      <td>Argentina</td>\n",
              "      <td>0</td>\n",
              "      <td>1</td>\n",
              "      <td>FIFA World Cup qualification</td>\n",
              "      <td>Lima</td>\n",
              "      <td>Peru</td>\n",
              "      <td>False</td>\n",
              "    </tr>\n",
              "    <tr>\n",
              "      <th>2</th>\n",
              "      <td>5</td>\n",
              "      <td>Argentina</td>\n",
              "      <td>0.0</td>\n",
              "      <td>51</td>\n",
              "      <td>5</td>\n",
              "      <td>1993-08-08</td>\n",
              "      <td>1993</td>\n",
              "      <td>8</td>\n",
              "      <td>1993-08-08</td>\n",
              "      <td>Paraguay</td>\n",
              "      <td>Argentina</td>\n",
              "      <td>1</td>\n",
              "      <td>3</td>\n",
              "      <td>FIFA World Cup qualification</td>\n",
              "      <td>Asunción</td>\n",
              "      <td>Paraguay</td>\n",
              "      <td>False</td>\n",
              "    </tr>\n",
              "    <tr>\n",
              "      <th>3</th>\n",
              "      <td>5</td>\n",
              "      <td>Argentina</td>\n",
              "      <td>0.0</td>\n",
              "      <td>51</td>\n",
              "      <td>5</td>\n",
              "      <td>1993-08-08</td>\n",
              "      <td>1993</td>\n",
              "      <td>8</td>\n",
              "      <td>1993-08-15</td>\n",
              "      <td>Colombia</td>\n",
              "      <td>Argentina</td>\n",
              "      <td>2</td>\n",
              "      <td>1</td>\n",
              "      <td>FIFA World Cup qualification</td>\n",
              "      <td>Barranquilla</td>\n",
              "      <td>Colombia</td>\n",
              "      <td>False</td>\n",
              "    </tr>\n",
              "    <tr>\n",
              "      <th>4</th>\n",
              "      <td>8</td>\n",
              "      <td>Brazil</td>\n",
              "      <td>0.0</td>\n",
              "      <td>55</td>\n",
              "      <td>-5</td>\n",
              "      <td>1993-08-08</td>\n",
              "      <td>1993</td>\n",
              "      <td>8</td>\n",
              "      <td>1993-08-01</td>\n",
              "      <td>Venezuela</td>\n",
              "      <td>Brazil</td>\n",
              "      <td>1</td>\n",
              "      <td>5</td>\n",
              "      <td>FIFA World Cup qualification</td>\n",
              "      <td>San Cristóbal</td>\n",
              "      <td>Venezuela</td>\n",
              "      <td>False</td>\n",
              "    </tr>\n",
              "  </tbody>\n",
              "</table>\n",
              "</div>"
            ],
            "text/plain": [
              "   rank    country_x  total_points  ...           city  country_y neutral\n",
              "0     3  Switzerland           0.0  ...          Borås     Sweden   False\n",
              "1     5    Argentina           0.0  ...           Lima       Peru   False\n",
              "2     5    Argentina           0.0  ...       Asunción   Paraguay   False\n",
              "3     5    Argentina           0.0  ...   Barranquilla   Colombia   False\n",
              "4     8       Brazil           0.0  ...  San Cristóbal  Venezuela   False\n",
              "\n",
              "[5 rows x 17 columns]"
            ]
          },
          "metadata": {
            "tags": []
          },
          "execution_count": 516
        }
      ]
    },
    {
      "cell_type": "code",
      "metadata": {
        "id": "8Ri2nijJATWD",
        "colab_type": "code",
        "colab": {}
      },
      "source": [
        "#removing unnecessary columns from the dataset\n",
        "merged_away.drop(columns=['country_y','rank_date','date'], inplace=True)"
      ],
      "execution_count": 0,
      "outputs": []
    },
    {
      "cell_type": "code",
      "metadata": {
        "id": "EC2Bs6HLDsyi",
        "colab_type": "code",
        "colab": {}
      },
      "source": [
        "merged_home.country_x=merged_away.rename({'country_x':'country','rank':'rank_away'}, axis = 1, inplace = True)"
      ],
      "execution_count": 0,
      "outputs": []
    },
    {
      "cell_type": "code",
      "metadata": {
        "id": "YnrCLRrvD6Q9",
        "colab_type": "code",
        "outputId": "52c915b9-f8cb-4257-b38a-f1f832684e53",
        "colab": {
          "base_uri": "https://localhost:8080/",
          "height": 341
        }
      },
      "source": [
        "merged_away.head()"
      ],
      "execution_count": 519,
      "outputs": [
        {
          "output_type": "execute_result",
          "data": {
            "text/html": [
              "<div>\n",
              "<style scoped>\n",
              "    .dataframe tbody tr th:only-of-type {\n",
              "        vertical-align: middle;\n",
              "    }\n",
              "\n",
              "    .dataframe tbody tr th {\n",
              "        vertical-align: top;\n",
              "    }\n",
              "\n",
              "    .dataframe thead th {\n",
              "        text-align: right;\n",
              "    }\n",
              "</style>\n",
              "<table border=\"1\" class=\"dataframe\">\n",
              "  <thead>\n",
              "    <tr style=\"text-align: right;\">\n",
              "      <th></th>\n",
              "      <th>rank_away</th>\n",
              "      <th>country</th>\n",
              "      <th>total_points</th>\n",
              "      <th>previous_points</th>\n",
              "      <th>rank_change</th>\n",
              "      <th>year</th>\n",
              "      <th>month</th>\n",
              "      <th>home_team</th>\n",
              "      <th>away_team</th>\n",
              "      <th>home_score</th>\n",
              "      <th>away_score</th>\n",
              "      <th>tournament</th>\n",
              "      <th>city</th>\n",
              "      <th>neutral</th>\n",
              "    </tr>\n",
              "  </thead>\n",
              "  <tbody>\n",
              "    <tr>\n",
              "      <th>0</th>\n",
              "      <td>3</td>\n",
              "      <td>Switzerland</td>\n",
              "      <td>0.0</td>\n",
              "      <td>50</td>\n",
              "      <td>9</td>\n",
              "      <td>1993</td>\n",
              "      <td>8</td>\n",
              "      <td>Sweden</td>\n",
              "      <td>Switzerland</td>\n",
              "      <td>1</td>\n",
              "      <td>2</td>\n",
              "      <td>Friendly</td>\n",
              "      <td>Borås</td>\n",
              "      <td>False</td>\n",
              "    </tr>\n",
              "    <tr>\n",
              "      <th>1</th>\n",
              "      <td>5</td>\n",
              "      <td>Argentina</td>\n",
              "      <td>0.0</td>\n",
              "      <td>51</td>\n",
              "      <td>5</td>\n",
              "      <td>1993</td>\n",
              "      <td>8</td>\n",
              "      <td>Peru</td>\n",
              "      <td>Argentina</td>\n",
              "      <td>0</td>\n",
              "      <td>1</td>\n",
              "      <td>FIFA World Cup qualification</td>\n",
              "      <td>Lima</td>\n",
              "      <td>False</td>\n",
              "    </tr>\n",
              "    <tr>\n",
              "      <th>2</th>\n",
              "      <td>5</td>\n",
              "      <td>Argentina</td>\n",
              "      <td>0.0</td>\n",
              "      <td>51</td>\n",
              "      <td>5</td>\n",
              "      <td>1993</td>\n",
              "      <td>8</td>\n",
              "      <td>Paraguay</td>\n",
              "      <td>Argentina</td>\n",
              "      <td>1</td>\n",
              "      <td>3</td>\n",
              "      <td>FIFA World Cup qualification</td>\n",
              "      <td>Asunción</td>\n",
              "      <td>False</td>\n",
              "    </tr>\n",
              "    <tr>\n",
              "      <th>3</th>\n",
              "      <td>5</td>\n",
              "      <td>Argentina</td>\n",
              "      <td>0.0</td>\n",
              "      <td>51</td>\n",
              "      <td>5</td>\n",
              "      <td>1993</td>\n",
              "      <td>8</td>\n",
              "      <td>Colombia</td>\n",
              "      <td>Argentina</td>\n",
              "      <td>2</td>\n",
              "      <td>1</td>\n",
              "      <td>FIFA World Cup qualification</td>\n",
              "      <td>Barranquilla</td>\n",
              "      <td>False</td>\n",
              "    </tr>\n",
              "    <tr>\n",
              "      <th>4</th>\n",
              "      <td>8</td>\n",
              "      <td>Brazil</td>\n",
              "      <td>0.0</td>\n",
              "      <td>55</td>\n",
              "      <td>-5</td>\n",
              "      <td>1993</td>\n",
              "      <td>8</td>\n",
              "      <td>Venezuela</td>\n",
              "      <td>Brazil</td>\n",
              "      <td>1</td>\n",
              "      <td>5</td>\n",
              "      <td>FIFA World Cup qualification</td>\n",
              "      <td>San Cristóbal</td>\n",
              "      <td>False</td>\n",
              "    </tr>\n",
              "  </tbody>\n",
              "</table>\n",
              "</div>"
            ],
            "text/plain": [
              "   rank_away      country  ...           city  neutral\n",
              "0          3  Switzerland  ...          Borås    False\n",
              "1          5    Argentina  ...           Lima    False\n",
              "2          5    Argentina  ...       Asunción    False\n",
              "3          5    Argentina  ...   Barranquilla    False\n",
              "4          8       Brazil  ...  San Cristóbal    False\n",
              "\n",
              "[5 rows x 14 columns]"
            ]
          },
          "metadata": {
            "tags": []
          },
          "execution_count": 519
        }
      ]
    },
    {
      "cell_type": "code",
      "metadata": {
        "id": "r5YtopXFFHH4",
        "colab_type": "code",
        "outputId": "ac89aa97-7aea-4d16-f886-37926ec52ae3",
        "colab": {
          "base_uri": "https://localhost:8080/",
          "height": 191
        }
      },
      "source": [
        "#creating a subset of the merged_away dataframe\n",
        "merged_away = merged_away[['rank_away','away_team','month','year']]\n",
        "\n",
        "merged_away.head()"
      ],
      "execution_count": 520,
      "outputs": [
        {
          "output_type": "execute_result",
          "data": {
            "text/html": [
              "<div>\n",
              "<style scoped>\n",
              "    .dataframe tbody tr th:only-of-type {\n",
              "        vertical-align: middle;\n",
              "    }\n",
              "\n",
              "    .dataframe tbody tr th {\n",
              "        vertical-align: top;\n",
              "    }\n",
              "\n",
              "    .dataframe thead th {\n",
              "        text-align: right;\n",
              "    }\n",
              "</style>\n",
              "<table border=\"1\" class=\"dataframe\">\n",
              "  <thead>\n",
              "    <tr style=\"text-align: right;\">\n",
              "      <th></th>\n",
              "      <th>rank_away</th>\n",
              "      <th>away_team</th>\n",
              "      <th>month</th>\n",
              "      <th>year</th>\n",
              "    </tr>\n",
              "  </thead>\n",
              "  <tbody>\n",
              "    <tr>\n",
              "      <th>0</th>\n",
              "      <td>3</td>\n",
              "      <td>Switzerland</td>\n",
              "      <td>8</td>\n",
              "      <td>1993</td>\n",
              "    </tr>\n",
              "    <tr>\n",
              "      <th>1</th>\n",
              "      <td>5</td>\n",
              "      <td>Argentina</td>\n",
              "      <td>8</td>\n",
              "      <td>1993</td>\n",
              "    </tr>\n",
              "    <tr>\n",
              "      <th>2</th>\n",
              "      <td>5</td>\n",
              "      <td>Argentina</td>\n",
              "      <td>8</td>\n",
              "      <td>1993</td>\n",
              "    </tr>\n",
              "    <tr>\n",
              "      <th>3</th>\n",
              "      <td>5</td>\n",
              "      <td>Argentina</td>\n",
              "      <td>8</td>\n",
              "      <td>1993</td>\n",
              "    </tr>\n",
              "    <tr>\n",
              "      <th>4</th>\n",
              "      <td>8</td>\n",
              "      <td>Brazil</td>\n",
              "      <td>8</td>\n",
              "      <td>1993</td>\n",
              "    </tr>\n",
              "  </tbody>\n",
              "</table>\n",
              "</div>"
            ],
            "text/plain": [
              "   rank_away    away_team  month  year\n",
              "0          3  Switzerland      8  1993\n",
              "1          5    Argentina      8  1993\n",
              "2          5    Argentina      8  1993\n",
              "3          5    Argentina      8  1993\n",
              "4          8       Brazil      8  1993"
            ]
          },
          "metadata": {
            "tags": []
          },
          "execution_count": 520
        }
      ]
    },
    {
      "cell_type": "code",
      "metadata": {
        "id": "hbFC_HlD6Ru_",
        "colab_type": "code",
        "outputId": "b8eb49cf-e9a6-4f7c-b84b-883bdee65746",
        "colab": {
          "base_uri": "https://localhost:8080/",
          "height": 341
        }
      },
      "source": [
        "#merging the merged_home and merged_away dtasets to get the merged_df dataset\n",
        "merged_df = pd.merge( merged_home, merged_away, how = 'inner', left_on = ['year', 'month','away_team'], right_on = ['year', 'month','away_team'])\n",
        "merged_df.head()"
      ],
      "execution_count": 521,
      "outputs": [
        {
          "output_type": "execute_result",
          "data": {
            "text/html": [
              "<div>\n",
              "<style scoped>\n",
              "    .dataframe tbody tr th:only-of-type {\n",
              "        vertical-align: middle;\n",
              "    }\n",
              "\n",
              "    .dataframe tbody tr th {\n",
              "        vertical-align: top;\n",
              "    }\n",
              "\n",
              "    .dataframe thead th {\n",
              "        text-align: right;\n",
              "    }\n",
              "</style>\n",
              "<table border=\"1\" class=\"dataframe\">\n",
              "  <thead>\n",
              "    <tr style=\"text-align: right;\">\n",
              "      <th></th>\n",
              "      <th>rank_home</th>\n",
              "      <th>country</th>\n",
              "      <th>total_points</th>\n",
              "      <th>previous_points</th>\n",
              "      <th>rank_change</th>\n",
              "      <th>year</th>\n",
              "      <th>month</th>\n",
              "      <th>home_team</th>\n",
              "      <th>away_team</th>\n",
              "      <th>home_score</th>\n",
              "      <th>away_score</th>\n",
              "      <th>tournament</th>\n",
              "      <th>neutral</th>\n",
              "      <th>rank_away</th>\n",
              "    </tr>\n",
              "  </thead>\n",
              "  <tbody>\n",
              "    <tr>\n",
              "      <th>0</th>\n",
              "      <td>4</td>\n",
              "      <td>Sweden</td>\n",
              "      <td>0.0</td>\n",
              "      <td>55</td>\n",
              "      <td>0</td>\n",
              "      <td>1993</td>\n",
              "      <td>8</td>\n",
              "      <td>Sweden</td>\n",
              "      <td>Switzerland</td>\n",
              "      <td>1</td>\n",
              "      <td>2</td>\n",
              "      <td>Friendly</td>\n",
              "      <td>False</td>\n",
              "      <td>3</td>\n",
              "    </tr>\n",
              "    <tr>\n",
              "      <th>1</th>\n",
              "      <td>4</td>\n",
              "      <td>Sweden</td>\n",
              "      <td>0.0</td>\n",
              "      <td>55</td>\n",
              "      <td>0</td>\n",
              "      <td>1993</td>\n",
              "      <td>8</td>\n",
              "      <td>Sweden</td>\n",
              "      <td>France</td>\n",
              "      <td>1</td>\n",
              "      <td>1</td>\n",
              "      <td>FIFA World Cup qualification</td>\n",
              "      <td>False</td>\n",
              "      <td>12</td>\n",
              "    </tr>\n",
              "    <tr>\n",
              "      <th>2</th>\n",
              "      <td>5</td>\n",
              "      <td>Argentina</td>\n",
              "      <td>0.0</td>\n",
              "      <td>51</td>\n",
              "      <td>5</td>\n",
              "      <td>1993</td>\n",
              "      <td>8</td>\n",
              "      <td>Argentina</td>\n",
              "      <td>Peru</td>\n",
              "      <td>2</td>\n",
              "      <td>1</td>\n",
              "      <td>FIFA World Cup qualification</td>\n",
              "      <td>False</td>\n",
              "      <td>70</td>\n",
              "    </tr>\n",
              "    <tr>\n",
              "      <th>3</th>\n",
              "      <td>5</td>\n",
              "      <td>Argentina</td>\n",
              "      <td>0.0</td>\n",
              "      <td>51</td>\n",
              "      <td>5</td>\n",
              "      <td>1993</td>\n",
              "      <td>8</td>\n",
              "      <td>Argentina</td>\n",
              "      <td>Peru</td>\n",
              "      <td>2</td>\n",
              "      <td>1</td>\n",
              "      <td>FIFA World Cup qualification</td>\n",
              "      <td>False</td>\n",
              "      <td>70</td>\n",
              "    </tr>\n",
              "    <tr>\n",
              "      <th>4</th>\n",
              "      <td>5</td>\n",
              "      <td>Argentina</td>\n",
              "      <td>0.0</td>\n",
              "      <td>51</td>\n",
              "      <td>5</td>\n",
              "      <td>1993</td>\n",
              "      <td>8</td>\n",
              "      <td>Argentina</td>\n",
              "      <td>Peru</td>\n",
              "      <td>2</td>\n",
              "      <td>1</td>\n",
              "      <td>FIFA World Cup qualification</td>\n",
              "      <td>False</td>\n",
              "      <td>70</td>\n",
              "    </tr>\n",
              "  </tbody>\n",
              "</table>\n",
              "</div>"
            ],
            "text/plain": [
              "   rank_home    country  ...  neutral  rank_away\n",
              "0          4     Sweden  ...    False          3\n",
              "1          4     Sweden  ...    False         12\n",
              "2          5  Argentina  ...    False         70\n",
              "3          5  Argentina  ...    False         70\n",
              "4          5  Argentina  ...    False         70\n",
              "\n",
              "[5 rows x 14 columns]"
            ]
          },
          "metadata": {
            "tags": []
          },
          "execution_count": 521
        }
      ]
    },
    {
      "cell_type": "code",
      "metadata": {
        "id": "UliNR5AQwVOC",
        "colab_type": "code",
        "outputId": "0411fbbc-9cdc-4731-833a-aad2fe52ddec",
        "colab": {
          "base_uri": "https://localhost:8080/",
          "height": 82
        }
      },
      "source": [
        "print(merged_df.columns)"
      ],
      "execution_count": 522,
      "outputs": [
        {
          "output_type": "stream",
          "text": [
            "Index(['rank_home', 'country', 'total_points', 'previous_points',\n",
            "       'rank_change', 'year', 'month', 'home_team', 'away_team', 'home_score',\n",
            "       'away_score', 'tournament', 'neutral', 'rank_away'],\n",
            "      dtype='object')\n"
          ],
          "name": "stdout"
        }
      ]
    },
    {
      "cell_type": "markdown",
      "metadata": {
        "id": "jqmNqw-moFrJ",
        "colab_type": "text"
      },
      "source": [
        "#Data understanding"
      ]
    },
    {
      "cell_type": "code",
      "metadata": {
        "id": "wfOnO8BznWfJ",
        "colab_type": "code",
        "outputId": "24d38873-7948-4573-b338-32853cc210a8",
        "colab": {
          "base_uri": "https://localhost:8080/",
          "height": 261
        }
      },
      "source": [
        "#checking for missing values\n",
        "merged_df.isnull().sum()"
      ],
      "execution_count": 523,
      "outputs": [
        {
          "output_type": "execute_result",
          "data": {
            "text/plain": [
              "rank_home          0\n",
              "country            0\n",
              "total_points       0\n",
              "previous_points    0\n",
              "rank_change        0\n",
              "year               0\n",
              "month              0\n",
              "home_team          0\n",
              "away_team          0\n",
              "home_score         0\n",
              "away_score         0\n",
              "tournament         0\n",
              "neutral            0\n",
              "rank_away          0\n",
              "dtype: int64"
            ]
          },
          "metadata": {
            "tags": []
          },
          "execution_count": 523
        }
      ]
    },
    {
      "cell_type": "markdown",
      "metadata": {
        "id": "iTBcsiwupjll",
        "colab_type": "text"
      },
      "source": [
        "There are no null values in our dataset"
      ]
    },
    {
      "cell_type": "code",
      "metadata": {
        "id": "Opa7Ibnan2T5",
        "colab_type": "code",
        "colab": {
          "base_uri": "https://localhost:8080/",
          "height": 33
        },
        "outputId": "4118866d-5d2b-4fe3-bbc7-233b9d3516d9"
      },
      "source": [
        "#chceking for duplicated values\n",
        "merged_df.duplicated().sum()"
      ],
      "execution_count": 524,
      "outputs": [
        {
          "output_type": "execute_result",
          "data": {
            "text/plain": [
              "11650"
            ]
          },
          "metadata": {
            "tags": []
          },
          "execution_count": 524
        }
      ]
    },
    {
      "cell_type": "code",
      "metadata": {
        "id": "tE2MCIHHokpw",
        "colab_type": "code",
        "colab": {}
      },
      "source": [
        "#dropping duplicates\n",
        "merged_df.drop_duplicates(keep='first', inplace = True)"
      ],
      "execution_count": 0,
      "outputs": []
    },
    {
      "cell_type": "code",
      "metadata": {
        "id": "bijN2zDBnJOh",
        "colab_type": "code",
        "outputId": "d5158dc0-9288-4df7-ac89-38dde87247e7",
        "colab": {
          "base_uri": "https://localhost:8080/",
          "height": 33
        }
      },
      "source": [
        "#checking the shape of the new dataset\n",
        "merged_df.shape\n"
      ],
      "execution_count": 526,
      "outputs": [
        {
          "output_type": "execute_result",
          "data": {
            "text/plain": [
              "(16868, 14)"
            ]
          },
          "metadata": {
            "tags": []
          },
          "execution_count": 526
        }
      ]
    },
    {
      "cell_type": "code",
      "metadata": {
        "id": "PpiZv-s_pJ-0",
        "colab_type": "code",
        "outputId": "18cf965c-e784-47af-ba7e-7313ff4101fd",
        "colab": {
          "base_uri": "https://localhost:8080/",
          "height": 326
        }
      },
      "source": [
        "#Determining the datatype of the columns in the dataset\n",
        "merged_df.info()"
      ],
      "execution_count": 527,
      "outputs": [
        {
          "output_type": "stream",
          "text": [
            "<class 'pandas.core.frame.DataFrame'>\n",
            "Int64Index: 16868 entries, 0 to 28517\n",
            "Data columns (total 14 columns):\n",
            "rank_home          16868 non-null int64\n",
            "country            16868 non-null object\n",
            "total_points       16868 non-null float64\n",
            "previous_points    16868 non-null int64\n",
            "rank_change        16868 non-null int64\n",
            "year               16868 non-null int64\n",
            "month              16868 non-null int64\n",
            "home_team          16868 non-null object\n",
            "away_team          16868 non-null object\n",
            "home_score         16868 non-null int64\n",
            "away_score         16868 non-null int64\n",
            "tournament         16868 non-null object\n",
            "neutral            16868 non-null bool\n",
            "rank_away          16868 non-null int64\n",
            "dtypes: bool(1), float64(1), int64(8), object(4)\n",
            "memory usage: 1.8+ MB\n"
          ],
          "name": "stdout"
        }
      ]
    },
    {
      "cell_type": "markdown",
      "metadata": {
        "id": "Sb-NAaDqp3HZ",
        "colab_type": "text"
      },
      "source": [
        "There are 4 columns with string type data while the the rest are numerical except for one boolean"
      ]
    },
    {
      "cell_type": "markdown",
      "metadata": {
        "id": "Kzx_1Rmmqk3a",
        "colab_type": "text"
      },
      "source": [
        "#Exploratory data analysis"
      ]
    },
    {
      "cell_type": "markdown",
      "metadata": {
        "id": "gWF400kKqqM-",
        "colab_type": "text"
      },
      "source": [
        "#Univariate Analysis"
      ]
    },
    {
      "cell_type": "code",
      "metadata": {
        "id": "xJjYU1J9qZy3",
        "colab_type": "code",
        "outputId": "3ab39fdc-b518-4d2c-86ff-a33066cc6ce0",
        "colab": {
          "base_uri": "https://localhost:8080/",
          "height": 297
        }
      },
      "source": [
        "#Checking the statistical distribution\n",
        "merged_df.describe()"
      ],
      "execution_count": 528,
      "outputs": [
        {
          "output_type": "execute_result",
          "data": {
            "text/html": [
              "<div>\n",
              "<style scoped>\n",
              "    .dataframe tbody tr th:only-of-type {\n",
              "        vertical-align: middle;\n",
              "    }\n",
              "\n",
              "    .dataframe tbody tr th {\n",
              "        vertical-align: top;\n",
              "    }\n",
              "\n",
              "    .dataframe thead th {\n",
              "        text-align: right;\n",
              "    }\n",
              "</style>\n",
              "<table border=\"1\" class=\"dataframe\">\n",
              "  <thead>\n",
              "    <tr style=\"text-align: right;\">\n",
              "      <th></th>\n",
              "      <th>rank_home</th>\n",
              "      <th>total_points</th>\n",
              "      <th>previous_points</th>\n",
              "      <th>rank_change</th>\n",
              "      <th>year</th>\n",
              "      <th>month</th>\n",
              "      <th>home_score</th>\n",
              "      <th>away_score</th>\n",
              "      <th>rank_away</th>\n",
              "    </tr>\n",
              "  </thead>\n",
              "  <tbody>\n",
              "    <tr>\n",
              "      <th>count</th>\n",
              "      <td>16868.000000</td>\n",
              "      <td>16868.00000</td>\n",
              "      <td>16868.000000</td>\n",
              "      <td>16868.000000</td>\n",
              "      <td>16868.000000</td>\n",
              "      <td>16868.000000</td>\n",
              "      <td>16868.000000</td>\n",
              "      <td>16868.000000</td>\n",
              "      <td>16868.000000</td>\n",
              "    </tr>\n",
              "    <tr>\n",
              "      <th>mean</th>\n",
              "      <td>76.029049</td>\n",
              "      <td>166.06225</td>\n",
              "      <td>435.375978</td>\n",
              "      <td>0.933187</td>\n",
              "      <td>2006.499229</td>\n",
              "      <td>6.879120</td>\n",
              "      <td>1.604577</td>\n",
              "      <td>1.069481</td>\n",
              "      <td>78.852857</td>\n",
              "    </tr>\n",
              "    <tr>\n",
              "      <th>std</th>\n",
              "      <td>50.847921</td>\n",
              "      <td>313.82347</td>\n",
              "      <td>319.345652</td>\n",
              "      <td>6.849238</td>\n",
              "      <td>6.803159</td>\n",
              "      <td>3.272115</td>\n",
              "      <td>1.615800</td>\n",
              "      <td>1.245816</td>\n",
              "      <td>52.006329</td>\n",
              "    </tr>\n",
              "    <tr>\n",
              "      <th>min</th>\n",
              "      <td>1.000000</td>\n",
              "      <td>0.00000</td>\n",
              "      <td>0.000000</td>\n",
              "      <td>-62.000000</td>\n",
              "      <td>1993.000000</td>\n",
              "      <td>1.000000</td>\n",
              "      <td>0.000000</td>\n",
              "      <td>0.000000</td>\n",
              "      <td>1.000000</td>\n",
              "    </tr>\n",
              "    <tr>\n",
              "      <th>25%</th>\n",
              "      <td>33.000000</td>\n",
              "      <td>0.00000</td>\n",
              "      <td>174.000000</td>\n",
              "      <td>-2.000000</td>\n",
              "      <td>2001.000000</td>\n",
              "      <td>4.000000</td>\n",
              "      <td>0.000000</td>\n",
              "      <td>0.000000</td>\n",
              "      <td>35.000000</td>\n",
              "    </tr>\n",
              "    <tr>\n",
              "      <th>50%</th>\n",
              "      <td>70.000000</td>\n",
              "      <td>0.00000</td>\n",
              "      <td>417.000000</td>\n",
              "      <td>0.000000</td>\n",
              "      <td>2007.000000</td>\n",
              "      <td>7.000000</td>\n",
              "      <td>1.000000</td>\n",
              "      <td>1.000000</td>\n",
              "      <td>72.000000</td>\n",
              "    </tr>\n",
              "    <tr>\n",
              "      <th>75%</th>\n",
              "      <td>112.000000</td>\n",
              "      <td>230.81250</td>\n",
              "      <td>618.000000</td>\n",
              "      <td>3.000000</td>\n",
              "      <td>2012.000000</td>\n",
              "      <td>10.000000</td>\n",
              "      <td>2.000000</td>\n",
              "      <td>2.000000</td>\n",
              "      <td>115.000000</td>\n",
              "    </tr>\n",
              "    <tr>\n",
              "      <th>max</th>\n",
              "      <td>209.000000</td>\n",
              "      <td>1770.06000</td>\n",
              "      <td>1887.000000</td>\n",
              "      <td>73.000000</td>\n",
              "      <td>2018.000000</td>\n",
              "      <td>12.000000</td>\n",
              "      <td>31.000000</td>\n",
              "      <td>15.000000</td>\n",
              "      <td>209.000000</td>\n",
              "    </tr>\n",
              "  </tbody>\n",
              "</table>\n",
              "</div>"
            ],
            "text/plain": [
              "          rank_home  total_points  ...    away_score     rank_away\n",
              "count  16868.000000   16868.00000  ...  16868.000000  16868.000000\n",
              "mean      76.029049     166.06225  ...      1.069481     78.852857\n",
              "std       50.847921     313.82347  ...      1.245816     52.006329\n",
              "min        1.000000       0.00000  ...      0.000000      1.000000\n",
              "25%       33.000000       0.00000  ...      0.000000     35.000000\n",
              "50%       70.000000       0.00000  ...      1.000000     72.000000\n",
              "75%      112.000000     230.81250  ...      2.000000    115.000000\n",
              "max      209.000000    1770.06000  ...     15.000000    209.000000\n",
              "\n",
              "[8 rows x 9 columns]"
            ]
          },
          "metadata": {
            "tags": []
          },
          "execution_count": 528
        }
      ]
    },
    {
      "cell_type": "code",
      "metadata": {
        "id": "llOPw-Xos5mp",
        "colab_type": "code",
        "outputId": "e3bebcfb-6ef0-467a-9995-ad070794427c",
        "colab": {
          "base_uri": "https://localhost:8080/",
          "height": 1000
        }
      },
      "source": [
        "# Plotting distribution of numerical variables\n",
        "col_names = ['rank_home', 'total_points', 'previous_points',\n",
        "       'rank_change', 'year', 'month', 'home_score',\n",
        "       'away_score', 'rank_away']\n",
        "fig, ax = plt.subplots(len(col_names), figsize=(10,40))\n",
        "\n",
        "for i, col_val in enumerate(col_names):\n",
        "\n",
        "    sns.distplot(merged_df[col_val], hist=True, ax=ax[i])\n",
        "    ax[i].set_title('Frequency distribution of '+col_val, fontsize=10)\n",
        "    ax[i].set_xlabel(col_val, fontsize=8)\n",
        "    ax[i].set_ylabel('Count', fontsize=8)\n",
        "    \n",
        "plt.tight_layout()\n",
        "plt.show()\n",
        "\n"
      ],
      "execution_count": 529,
      "outputs": [
        {
          "output_type": "display_data",
          "data": {
            "image/png": "[encoded data removed]",
            "text/plain": [
              "<Figure size 720x2880 with 9 Axes>"
            ]
          },
          "metadata": {
            "tags": []
          }
        }
      ]
    },
    {
      "cell_type": "markdown",
      "metadata": {
        "id": "7OcODAJxk_tt",
        "colab_type": "text"
      },
      "source": [
        "All columns are negatively skewed from rank_change which has an almost normal distribution and year which has a multimodal distribution while month column which has an almost normal distribution but its heavy-tailed."
      ]
    },
    {
      "cell_type": "markdown",
      "metadata": {
        "id": "_JGU4Co8uKRF",
        "colab_type": "text"
      },
      "source": [
        "#Bivariate Analysis"
      ]
    },
    {
      "cell_type": "code",
      "metadata": {
        "id": "kFx7cYWluPUX",
        "colab_type": "code",
        "outputId": "eb1dca3c-4583-44e3-dad1-6ef21d8aec01",
        "colab": {
          "base_uri": "https://localhost:8080/",
          "height": 713
        }
      },
      "source": [
        "plt.figure(dpi=150)\n",
        "cor=merged_df.corr(method = 'spearman')\n",
        "sns.heatmap(cor, xticklabels=cor.columns, yticklabels=cor.columns, annot = True)\n",
        "plt.xticks( rotation=45)\n",
        "plt.title('Correlation between variables')\n",
        "plt.show"
      ],
      "execution_count": 530,
      "outputs": [
        {
          "output_type": "execute_result",
          "data": {
            "text/plain": [
              "<function matplotlib.pyplot.show>"
            ]
          },
          "metadata": {
            "tags": []
          },
          "execution_count": 530
        },
        {
          "output_type": "display_data",
          "data": {
            "image/png": "[encoded data removed]",
            "text/plain": [
              "<Figure size 900x600 with 2 Axes>"
            ]
          },
          "metadata": {
            "tags": []
          }
        }
      ]
    },
    {
      "cell_type": "markdown",
      "metadata": {
        "id": "231BAhzhjH-3",
        "colab_type": "text"
      },
      "source": [
        "**Observations**\n",
        "\n",
        "* 0.78 is the highes postive correlation and its between the year and the total points which is sensible considering with an increase in years the total points increase.\n",
        "* -0.66 is the highest negative correlation and its between the rank_home and the previous points."
      ]
    },
    {
      "cell_type": "markdown",
      "metadata": {
        "id": "PTGJhtpFN21d",
        "colab_type": "text"
      },
      "source": [
        "#Checking for outliers"
      ]
    },
    {
      "cell_type": "code",
      "metadata": {
        "id": "98KT0vv1N84a",
        "colab_type": "code",
        "outputId": "2f27bc58-2a75-4ed2-a4f9-e7c690c958b2",
        "colab": {
          "base_uri": "https://localhost:8080/",
          "height": 1000
        }
      },
      "source": [
        "col_names = numeric_clmns = merged_df.dtypes[merged_df.dtypes != \"object\" ].index\n",
        "\n",
        "fig, ax = plt.subplots(len(col_names), figsize=(8,60))\n",
        "\n",
        "for i, col_val in enumerate(col_names):\n",
        "\n",
        "    sns.boxplot(y=merged_df[col_val], ax=ax[i])\n",
        "    ax[i].set_title('Box plot - {}'.format(col_val), fontsize=10)\n",
        "    ax[i].set_xlabel(col_val, fontsize=8)\n",
        "\n",
        "plt.tight_layout()\n",
        "plt.show()"
      ],
      "execution_count": 531,
      "outputs": [
        {
          "output_type": "display_data",
          "data": {
            "image/png": "[encoded data removed]",
            "text/plain": [
              "<Figure size 576x4320 with 10 Axes>"
            ]
          },
          "metadata": {
            "tags": []
          }
        }
      ]
    },
    {
      "cell_type": "markdown",
      "metadata": {
        "id": "ly5J-kEFP1eI",
        "colab_type": "text"
      },
      "source": [
        "The outliers seen in the columns are legitimate and are useful in the modeling of our data."
      ]
    },
    {
      "cell_type": "markdown",
      "metadata": {
        "id": "0_fTi5usQkek",
        "colab_type": "text"
      },
      "source": [
        "#Feature engineering"
      ]
    },
    {
      "cell_type": "markdown",
      "metadata": {
        "id": "lxSOyRV1QqLS",
        "colab_type": "text"
      },
      "source": [
        "Coming up with a results column that is the differnece between the home and away score\n"
      ]
    },
    {
      "cell_type": "code",
      "metadata": {
        "id": "raRBYd_CP_lz",
        "colab_type": "code",
        "outputId": "c9f2d6fc-a3f1-46a7-fb87-148d3670b9b9",
        "colab": {
          "base_uri": "https://localhost:8080/",
          "height": 341
        }
      },
      "source": [
        "def get_score():\n",
        "  overall_score = []\n",
        "  merged_df['score_diff'] = merged_df['home_score'] - merged_df['away_score']\n",
        "  for x in merged_df['score_diff']:\n",
        "    if x>0:\n",
        "      overall_score.append('win')\n",
        "    elif x =='0':\n",
        "      overall_score.append('draw')\n",
        "    elif x<0:\n",
        "      overall_score.append('loss')\n",
        "    else:\n",
        "      overall_score.append('none')\n",
        "  merged_df['overall_score']= overall_score\n",
        "\n",
        "get_score()\n",
        "merged_df.head()"
      ],
      "execution_count": 532,
      "outputs": [
        {
          "output_type": "execute_result",
          "data": {
            "text/html": [
              "<div>\n",
              "<style scoped>\n",
              "    .dataframe tbody tr th:only-of-type {\n",
              "        vertical-align: middle;\n",
              "    }\n",
              "\n",
              "    .dataframe tbody tr th {\n",
              "        vertical-align: top;\n",
              "    }\n",
              "\n",
              "    .dataframe thead th {\n",
              "        text-align: right;\n",
              "    }\n",
              "</style>\n",
              "<table border=\"1\" class=\"dataframe\">\n",
              "  <thead>\n",
              "    <tr style=\"text-align: right;\">\n",
              "      <th></th>\n",
              "      <th>rank_home</th>\n",
              "      <th>country</th>\n",
              "      <th>total_points</th>\n",
              "      <th>previous_points</th>\n",
              "      <th>rank_change</th>\n",
              "      <th>year</th>\n",
              "      <th>month</th>\n",
              "      <th>home_team</th>\n",
              "      <th>away_team</th>\n",
              "      <th>home_score</th>\n",
              "      <th>away_score</th>\n",
              "      <th>tournament</th>\n",
              "      <th>neutral</th>\n",
              "      <th>rank_away</th>\n",
              "      <th>score_diff</th>\n",
              "      <th>overall_score</th>\n",
              "    </tr>\n",
              "  </thead>\n",
              "  <tbody>\n",
              "    <tr>\n",
              "      <th>0</th>\n",
              "      <td>4</td>\n",
              "      <td>Sweden</td>\n",
              "      <td>0.0</td>\n",
              "      <td>55</td>\n",
              "      <td>0</td>\n",
              "      <td>1993</td>\n",
              "      <td>8</td>\n",
              "      <td>Sweden</td>\n",
              "      <td>Switzerland</td>\n",
              "      <td>1</td>\n",
              "      <td>2</td>\n",
              "      <td>Friendly</td>\n",
              "      <td>False</td>\n",
              "      <td>3</td>\n",
              "      <td>-1</td>\n",
              "      <td>loss</td>\n",
              "    </tr>\n",
              "    <tr>\n",
              "      <th>1</th>\n",
              "      <td>4</td>\n",
              "      <td>Sweden</td>\n",
              "      <td>0.0</td>\n",
              "      <td>55</td>\n",
              "      <td>0</td>\n",
              "      <td>1993</td>\n",
              "      <td>8</td>\n",
              "      <td>Sweden</td>\n",
              "      <td>France</td>\n",
              "      <td>1</td>\n",
              "      <td>1</td>\n",
              "      <td>FIFA World Cup qualification</td>\n",
              "      <td>False</td>\n",
              "      <td>12</td>\n",
              "      <td>0</td>\n",
              "      <td>none</td>\n",
              "    </tr>\n",
              "    <tr>\n",
              "      <th>2</th>\n",
              "      <td>5</td>\n",
              "      <td>Argentina</td>\n",
              "      <td>0.0</td>\n",
              "      <td>51</td>\n",
              "      <td>5</td>\n",
              "      <td>1993</td>\n",
              "      <td>8</td>\n",
              "      <td>Argentina</td>\n",
              "      <td>Peru</td>\n",
              "      <td>2</td>\n",
              "      <td>1</td>\n",
              "      <td>FIFA World Cup qualification</td>\n",
              "      <td>False</td>\n",
              "      <td>70</td>\n",
              "      <td>1</td>\n",
              "      <td>win</td>\n",
              "    </tr>\n",
              "    <tr>\n",
              "      <th>5</th>\n",
              "      <td>19</td>\n",
              "      <td>Colombia</td>\n",
              "      <td>0.0</td>\n",
              "      <td>36</td>\n",
              "      <td>16</td>\n",
              "      <td>1993</td>\n",
              "      <td>8</td>\n",
              "      <td>Colombia</td>\n",
              "      <td>Peru</td>\n",
              "      <td>4</td>\n",
              "      <td>0</td>\n",
              "      <td>FIFA World Cup qualification</td>\n",
              "      <td>False</td>\n",
              "      <td>70</td>\n",
              "      <td>4</td>\n",
              "      <td>win</td>\n",
              "    </tr>\n",
              "    <tr>\n",
              "      <th>8</th>\n",
              "      <td>67</td>\n",
              "      <td>Paraguay</td>\n",
              "      <td>0.0</td>\n",
              "      <td>22</td>\n",
              "      <td>1</td>\n",
              "      <td>1993</td>\n",
              "      <td>8</td>\n",
              "      <td>Paraguay</td>\n",
              "      <td>Peru</td>\n",
              "      <td>2</td>\n",
              "      <td>1</td>\n",
              "      <td>FIFA World Cup qualification</td>\n",
              "      <td>False</td>\n",
              "      <td>70</td>\n",
              "      <td>1</td>\n",
              "      <td>win</td>\n",
              "    </tr>\n",
              "  </tbody>\n",
              "</table>\n",
              "</div>"
            ],
            "text/plain": [
              "   rank_home    country  total_points  ...  rank_away  score_diff  overall_score\n",
              "0          4     Sweden           0.0  ...          3          -1           loss\n",
              "1          4     Sweden           0.0  ...         12           0           none\n",
              "2          5  Argentina           0.0  ...         70           1            win\n",
              "5         19   Colombia           0.0  ...         70           4            win\n",
              "8         67   Paraguay           0.0  ...         70           1            win\n",
              "\n",
              "[5 rows x 16 columns]"
            ]
          },
          "metadata": {
            "tags": []
          },
          "execution_count": 532
        }
      ]
    },
    {
      "cell_type": "code",
      "metadata": {
        "id": "rPk5wx1vSZSs",
        "colab_type": "code",
        "colab": {}
      },
      "source": [
        "#changing the nuetral and overall score columns into numerical data\n",
        "from sklearn import preprocessing\n",
        "le = preprocessing.LabelEncoder()\n",
        "\n",
        "\n"
      ],
      "execution_count": 0,
      "outputs": []
    },
    {
      "cell_type": "code",
      "metadata": {
        "id": "1632p9iUVgTq",
        "colab_type": "code",
        "colab": {}
      },
      "source": [
        "le.fit(merged_df['overall_score'])\n",
        "#le.fit(merged_df['neutral'])\n",
        "\n",
        "merged_df['numerical_score'] = le.transform(merged_df['overall_score'])\n",
        "# merged_df['nuetral_numerical'] = le.transform(merged_df['neutral'])\n",
        "\n",
        "# merged_df.head()"
      ],
      "execution_count": 0,
      "outputs": []
    },
    {
      "cell_type": "code",
      "metadata": {
        "id": "Z87aJnr2WOmq",
        "colab_type": "code",
        "colab": {}
      },
      "source": [
        "\n",
        "le.fit(merged_df['neutral'])\n",
        "\n",
        "\n",
        "merged_df['neutral_numerical'] = le.transform(merged_df['neutral'])\n",
        "\n"
      ],
      "execution_count": 0,
      "outputs": []
    },
    {
      "cell_type": "code",
      "metadata": {
        "id": "_i-M82_4WWI6",
        "colab_type": "code",
        "outputId": "dff87a89-fd8f-405c-ffd9-b9b7754eab38",
        "colab": {
          "base_uri": "https://localhost:8080/",
          "height": 341
        }
      },
      "source": [
        "merged_df.head()"
      ],
      "execution_count": 536,
      "outputs": [
        {
          "output_type": "execute_result",
          "data": {
            "text/html": [
              "<div>\n",
              "<style scoped>\n",
              "    .dataframe tbody tr th:only-of-type {\n",
              "        vertical-align: middle;\n",
              "    }\n",
              "\n",
              "    .dataframe tbody tr th {\n",
              "        vertical-align: top;\n",
              "    }\n",
              "\n",
              "    .dataframe thead th {\n",
              "        text-align: right;\n",
              "    }\n",
              "</style>\n",
              "<table border=\"1\" class=\"dataframe\">\n",
              "  <thead>\n",
              "    <tr style=\"text-align: right;\">\n",
              "      <th></th>\n",
              "      <th>rank_home</th>\n",
              "      <th>country</th>\n",
              "      <th>total_points</th>\n",
              "      <th>previous_points</th>\n",
              "      <th>rank_change</th>\n",
              "      <th>year</th>\n",
              "      <th>month</th>\n",
              "      <th>home_team</th>\n",
              "      <th>away_team</th>\n",
              "      <th>home_score</th>\n",
              "      <th>away_score</th>\n",
              "      <th>tournament</th>\n",
              "      <th>neutral</th>\n",
              "      <th>rank_away</th>\n",
              "      <th>score_diff</th>\n",
              "      <th>overall_score</th>\n",
              "      <th>numerical_score</th>\n",
              "      <th>neutral_numerical</th>\n",
              "    </tr>\n",
              "  </thead>\n",
              "  <tbody>\n",
              "    <tr>\n",
              "      <th>0</th>\n",
              "      <td>4</td>\n",
              "      <td>Sweden</td>\n",
              "      <td>0.0</td>\n",
              "      <td>55</td>\n",
              "      <td>0</td>\n",
              "      <td>1993</td>\n",
              "      <td>8</td>\n",
              "      <td>Sweden</td>\n",
              "      <td>Switzerland</td>\n",
              "      <td>1</td>\n",
              "      <td>2</td>\n",
              "      <td>Friendly</td>\n",
              "      <td>False</td>\n",
              "      <td>3</td>\n",
              "      <td>-1</td>\n",
              "      <td>loss</td>\n",
              "      <td>0</td>\n",
              "      <td>0</td>\n",
              "    </tr>\n",
              "    <tr>\n",
              "      <th>1</th>\n",
              "      <td>4</td>\n",
              "      <td>Sweden</td>\n",
              "      <td>0.0</td>\n",
              "      <td>55</td>\n",
              "      <td>0</td>\n",
              "      <td>1993</td>\n",
              "      <td>8</td>\n",
              "      <td>Sweden</td>\n",
              "      <td>France</td>\n",
              "      <td>1</td>\n",
              "      <td>1</td>\n",
              "      <td>FIFA World Cup qualification</td>\n",
              "      <td>False</td>\n",
              "      <td>12</td>\n",
              "      <td>0</td>\n",
              "      <td>none</td>\n",
              "      <td>1</td>\n",
              "      <td>0</td>\n",
              "    </tr>\n",
              "    <tr>\n",
              "      <th>2</th>\n",
              "      <td>5</td>\n",
              "      <td>Argentina</td>\n",
              "      <td>0.0</td>\n",
              "      <td>51</td>\n",
              "      <td>5</td>\n",
              "      <td>1993</td>\n",
              "      <td>8</td>\n",
              "      <td>Argentina</td>\n",
              "      <td>Peru</td>\n",
              "      <td>2</td>\n",
              "      <td>1</td>\n",
              "      <td>FIFA World Cup qualification</td>\n",
              "      <td>False</td>\n",
              "      <td>70</td>\n",
              "      <td>1</td>\n",
              "      <td>win</td>\n",
              "      <td>2</td>\n",
              "      <td>0</td>\n",
              "    </tr>\n",
              "    <tr>\n",
              "      <th>5</th>\n",
              "      <td>19</td>\n",
              "      <td>Colombia</td>\n",
              "      <td>0.0</td>\n",
              "      <td>36</td>\n",
              "      <td>16</td>\n",
              "      <td>1993</td>\n",
              "      <td>8</td>\n",
              "      <td>Colombia</td>\n",
              "      <td>Peru</td>\n",
              "      <td>4</td>\n",
              "      <td>0</td>\n",
              "      <td>FIFA World Cup qualification</td>\n",
              "      <td>False</td>\n",
              "      <td>70</td>\n",
              "      <td>4</td>\n",
              "      <td>win</td>\n",
              "      <td>2</td>\n",
              "      <td>0</td>\n",
              "    </tr>\n",
              "    <tr>\n",
              "      <th>8</th>\n",
              "      <td>67</td>\n",
              "      <td>Paraguay</td>\n",
              "      <td>0.0</td>\n",
              "      <td>22</td>\n",
              "      <td>1</td>\n",
              "      <td>1993</td>\n",
              "      <td>8</td>\n",
              "      <td>Paraguay</td>\n",
              "      <td>Peru</td>\n",
              "      <td>2</td>\n",
              "      <td>1</td>\n",
              "      <td>FIFA World Cup qualification</td>\n",
              "      <td>False</td>\n",
              "      <td>70</td>\n",
              "      <td>1</td>\n",
              "      <td>win</td>\n",
              "      <td>2</td>\n",
              "      <td>0</td>\n",
              "    </tr>\n",
              "  </tbody>\n",
              "</table>\n",
              "</div>"
            ],
            "text/plain": [
              "   rank_home    country  ...  numerical_score  neutral_numerical\n",
              "0          4     Sweden  ...                0                  0\n",
              "1          4     Sweden  ...                1                  0\n",
              "2          5  Argentina  ...                2                  0\n",
              "5         19   Colombia  ...                2                  0\n",
              "8         67   Paraguay  ...                2                  0\n",
              "\n",
              "[5 rows x 18 columns]"
            ]
          },
          "metadata": {
            "tags": []
          },
          "execution_count": 536
        }
      ]
    },
    {
      "cell_type": "markdown",
      "metadata": {
        "id": "Cfkwo27bZAm0",
        "colab_type": "text"
      },
      "source": [
        "#Linear regression\n"
      ]
    },
    {
      "cell_type": "code",
      "metadata": {
        "id": "jkRtfYgfY_s7",
        "colab_type": "code",
        "colab": {}
      },
      "source": [
        "#Declaring out dependent and independent variables\n",
        "x = merged_df[['rank_home','numerical_score','neutral_numerical', 'rank_away']]\n",
        "y = merged_df[['home_score']]\n"
      ],
      "execution_count": 0,
      "outputs": []
    },
    {
      "cell_type": "code",
      "metadata": {
        "id": "XxpUahM3aLKD",
        "colab_type": "code",
        "outputId": "d56c4da1-65ff-44fa-fced-84604ba30182",
        "colab": {
          "base_uri": "https://localhost:8080/",
          "height": 131
        }
      },
      "source": [
        "#checking for null values\n",
        "print(x.isnull().sum())\n",
        "print(y.isnull().sum())"
      ],
      "execution_count": 538,
      "outputs": [
        {
          "output_type": "stream",
          "text": [
            "rank_home            0\n",
            "numerical_score      0\n",
            "neutral_numerical    0\n",
            "rank_away            0\n",
            "dtype: int64\n",
            "home_score    0\n",
            "dtype: int64\n"
          ],
          "name": "stdout"
        }
      ]
    },
    {
      "cell_type": "code",
      "metadata": {
        "id": "0-Cs4d8Say29",
        "colab_type": "code",
        "colab": {}
      },
      "source": [
        "\n",
        "#splitting of the dataset into train and test set \n",
        "from sklearn.model_selection import train_test_split\n",
        "x_train, x_test, y_train,y_test = train_test_split(x,y, test_size = 0.2,random_state = 0)"
      ],
      "execution_count": 0,
      "outputs": []
    },
    {
      "cell_type": "code",
      "metadata": {
        "id": "CTGJVt9Ub3UO",
        "colab_type": "code",
        "outputId": "805cdc3f-1285-417d-a80c-b7d8703114a1",
        "colab": {
          "base_uri": "https://localhost:8080/",
          "height": 33
        }
      },
      "source": [
        "#fitting into a linear regression\n",
        "from sklearn.linear_model import LinearRegression\n",
        "reg = LinearRegression()\n",
        "reg.fit(x_train,y_train)"
      ],
      "execution_count": 540,
      "outputs": [
        {
          "output_type": "execute_result",
          "data": {
            "text/plain": [
              "LinearRegression(copy_X=True, fit_intercept=True, n_jobs=None, normalize=False)"
            ]
          },
          "metadata": {
            "tags": []
          },
          "execution_count": 540
        }
      ]
    },
    {
      "cell_type": "code",
      "metadata": {
        "id": "KbY6WGZIcOZ8",
        "colab_type": "code",
        "outputId": "c6400562-a2f2-4f9c-e003-edfd42f6b35f",
        "colab": {
          "base_uri": "https://localhost:8080/",
          "height": 50
        }
      },
      "source": [
        "#To get the y_intercept:\n",
        "print(reg.intercept_)\n",
        "#To get the slope of our line\n",
        "print(reg.coef_)"
      ],
      "execution_count": 541,
      "outputs": [
        {
          "output_type": "stream",
          "text": [
            "[0.23171291]\n",
            "[[-0.00459346  0.92641779 -0.0583063   0.00788753]]\n"
          ],
          "name": "stdout"
        }
      ]
    },
    {
      "cell_type": "code",
      "metadata": {
        "id": "vPLc-qUCctGb",
        "colab_type": "code",
        "outputId": "860ff65e-5500-4539-8877-0e126f43bc75",
        "colab": {
          "base_uri": "https://localhost:8080/",
          "height": 131
        }
      },
      "source": [
        "#Getting our predictions\n",
        "y_pred = reg.predict(x_test )\n",
        "y_pred"
      ],
      "execution_count": 542,
      "outputs": [
        {
          "output_type": "execute_result",
          "data": {
            "text/plain": [
              "array([[ 0.86575659],\n",
              "       [ 1.17388333],\n",
              "       [-0.21330555],\n",
              "       ...,\n",
              "       [-0.12189238],\n",
              "       [ 2.51166111],\n",
              "       [ 0.27142422]])"
            ]
          },
          "metadata": {
            "tags": []
          },
          "execution_count": 542
        }
      ]
    },
    {
      "cell_type": "code",
      "metadata": {
        "id": "iO5zoa8fcx9j",
        "colab_type": "code",
        "outputId": "ad1fb834-752d-475f-b083-a0caf139037f",
        "colab": {
          "base_uri": "https://localhost:8080/",
          "height": 265
        }
      },
      "source": [
        "plt.scatter(y_pred, y_test,  color='gray')\n",
        "plt.show()"
      ],
      "execution_count": 543,
      "outputs": [
        {
          "output_type": "display_data",
          "data": {
            "image/png": "[encoded data removed]",
            "text/plain": [
              "<Figure size 432x288 with 1 Axes>"
            ]
          },
          "metadata": {
            "tags": []
          }
        }
      ]
    },
    {
      "cell_type": "code",
      "metadata": {
        "id": "HYo0gZkNdzq0",
        "colab_type": "code",
        "outputId": "ac734fc1-a829-4bf8-b9e9-210c494a731d",
        "colab": {
          "base_uri": "https://localhost:8080/",
          "height": 33
        }
      },
      "source": [
        "#Determining the RMSE\n",
        "from sklearn.metrics import mean_squared_error\n",
        "from math import sqrt\n",
        "\n",
        "rmse = sqrt(mean_squared_error(y_test, y_pred))\n",
        "rmse"
      ],
      "execution_count": 544,
      "outputs": [
        {
          "output_type": "execute_result",
          "data": {
            "text/plain": [
              "1.2885782587693015"
            ]
          },
          "metadata": {
            "tags": []
          },
          "execution_count": 544
        }
      ]
    },
    {
      "cell_type": "markdown",
      "metadata": {
        "id": "TsDS1qIddcvD",
        "colab_type": "text"
      },
      "source": [
        "#Logistic Regression"
      ]
    },
    {
      "cell_type": "code",
      "metadata": {
        "id": "lZgfeYrYduWD",
        "colab_type": "code",
        "colab": {}
      },
      "source": [
        "x = merged_df[['rank_home', 'rank_away', 'neutral_numerical']]\n",
        "y = merged_df[['numerical_score']]"
      ],
      "execution_count": 0,
      "outputs": []
    },
    {
      "cell_type": "code",
      "metadata": {
        "id": "kEH_by2ieC-9",
        "colab_type": "code",
        "colab": {}
      },
      "source": [
        "#splitting the dataset into train and test set \n",
        "from sklearn.model_selection import train_test_split\n",
        "x_train, x_test, y_train, y_test = train_test_split(x, y, test_size = .3, random_state=25)"
      ],
      "execution_count": 0,
      "outputs": []
    },
    {
      "cell_type": "code",
      "metadata": {
        "id": "AANxlP13eGt9",
        "colab_type": "code",
        "outputId": "415c8b53-e6cd-48c8-fdfd-47bdb229b6b5",
        "colab": {
          "base_uri": "https://localhost:8080/",
          "height": 102
        }
      },
      "source": [
        "from sklearn.linear_model import LogisticRegression\n",
        "logistic_reg = LogisticRegression()\n",
        "logistic_reg.fit(x_train, y_train)\n",
        "training_score = logistic_reg.score(x_train, y_train)\n",
        "test_score = logistic_reg.score(x_test, y_test)\n",
        "\n",
        "print(\"Training set accuracy: \",(training_score))\n",
        "print(\"Test set accuracy: \",(test_score))\n"
      ],
      "execution_count": 547,
      "outputs": [
        {
          "output_type": "stream",
          "text": [
            "/usr/local/lib/python3.6/dist-packages/sklearn/utils/validation.py:760: DataConversionWarning: A column-vector y was passed when a 1d array was expected. Please change the shape of y to (n_samples, ), for example using ravel().\n",
            "  y = column_or_1d(y, warn=True)\n"
          ],
          "name": "stderr"
        },
        {
          "output_type": "stream",
          "text": [
            "Training set accuracy:  0.5822816972982129\n",
            "Test set accuracy:  0.5767634854771784\n"
          ],
          "name": "stdout"
        }
      ]
    },
    {
      "cell_type": "markdown",
      "metadata": {
        "id": "8XApkIL0oAL1",
        "colab_type": "text"
      },
      "source": [
        "The accuracy of our logistic regresion:\n",
        "* Test set accuracy: 0.5822816972982129\n",
        "* Training set accuracy: 0.5767634854771784"
      ]
    },
    {
      "cell_type": "markdown",
      "metadata": {
        "id": "jamm9EqYj3nH",
        "colab_type": "text"
      },
      "source": [
        "#Polynormial regression"
      ]
    },
    {
      "cell_type": "markdown",
      "metadata": {
        "id": "AC7oj6vIkC37",
        "colab_type": "text"
      },
      "source": [
        "**Home team predictions**"
      ]
    },
    {
      "cell_type": "code",
      "metadata": {
        "id": "atRDz_KNj7RT",
        "colab_type": "code",
        "colab": {}
      },
      "source": [
        "a = merged_df['rank_home'].values.reshape(-1,1)\n",
        "b = merged_df['home_score'].values"
      ],
      "execution_count": 0,
      "outputs": []
    },
    {
      "cell_type": "code",
      "metadata": {
        "id": "-eKe3gV8kHJk",
        "colab_type": "code",
        "colab": {}
      },
      "source": [
        "#splitting our dataset\n",
        "x_train, x_test, y_train, y_test = train_test_split(a, b, test_size = 0.2, random_state=0)"
      ],
      "execution_count": 0,
      "outputs": []
    },
    {
      "cell_type": "code",
      "metadata": {
        "id": "5QLzI2GJksrj",
        "colab_type": "code",
        "outputId": "937c97ca-6b38-4512-b39c-6b9aa573dc4a",
        "colab": {
          "base_uri": "https://localhost:8080/",
          "height": 33
        }
      },
      "source": [
        "#Fitting polynormial regression to our dataset\n",
        "from sklearn.preprocessing import PolynomialFeatures\n",
        "polreg = PolynomialFeatures(degree = 6)\n",
        "poly = polreg.fit_transform(a)\n",
        "poly_r = LinearRegression()\n",
        "poly_r.fit(poly, b)"
      ],
      "execution_count": 550,
      "outputs": [
        {
          "output_type": "execute_result",
          "data": {
            "text/plain": [
              "LinearRegression(copy_X=True, fit_intercept=True, n_jobs=None, normalize=False)"
            ]
          },
          "metadata": {
            "tags": []
          },
          "execution_count": 550
        }
      ]
    },
    {
      "cell_type": "code",
      "metadata": {
        "id": "lYu7zDiDlRWE",
        "colab_type": "code",
        "outputId": "4912fb3d-aba5-405b-9d63-22389d530ce5",
        "colab": {
          "base_uri": "https://localhost:8080/",
          "height": 50
        }
      },
      "source": [
        "\n",
        "# Checking the prediction\n",
        "y_pred= poly_r.predict(poly)\n",
        "y_pred\n"
      ],
      "execution_count": 551,
      "outputs": [
        {
          "output_type": "execute_result",
          "data": {
            "text/plain": [
              "array([2.13606845, 2.13606845, 2.09795997, ..., 1.42718795, 1.43497975,\n",
              "       1.41538502])"
            ]
          },
          "metadata": {
            "tags": []
          },
          "execution_count": 551
        }
      ]
    },
    {
      "cell_type": "code",
      "metadata": {
        "id": "AkwzgUrWl9G9",
        "colab_type": "code",
        "outputId": "b20b40a6-784d-4ed0-c523-35f1a6baf458",
        "colab": {
          "base_uri": "https://localhost:8080/",
          "height": 280
        }
      },
      "source": [
        "#a visualization of the Polynomial Regression results\n",
        "plt.scatter(x.iloc[:,0], y.iloc[:,0], color='orange')\n",
        "plt.plot(x, poly_r.predict(poly), color='blue')\n",
        "plt.xlabel('Team Rank')\n",
        "plt.ylabel('Score')\n",
        "plt.show()"
      ],
      "execution_count": 552,
      "outputs": [
        {
          "output_type": "display_data",
          "data": {
            "image/png": "[encoded data removed]",
            "text/plain": [
              "<Figure size 432x288 with 1 Axes>"
            ]
          },
          "metadata": {
            "tags": []
          }
        }
      ]
    },
    {
      "cell_type": "code",
      "metadata": {
        "id": "jSYhymjNmxce",
        "colab_type": "code",
        "outputId": "3ae56d88-4540-44c2-8e72-5717f720258f",
        "colab": {
          "base_uri": "https://localhost:8080/",
          "height": 33
        }
      },
      "source": [
        "# calculating the RMSE to determine accuracy of the model\n",
        "from sklearn.metrics import mean_squared_error\n",
        "#\n",
        "RMSE = np.sqrt(mean_squared_error(y, y_pred))\n",
        "#\n",
        "print(RMSE)"
      ],
      "execution_count": 553,
      "outputs": [
        {
          "output_type": "stream",
          "text": [
            "0.9171021108905066\n"
          ],
          "name": "stdout"
        }
      ]
    },
    {
      "cell_type": "markdown",
      "metadata": {
        "id": "vwqqgoXRnA1n",
        "colab_type": "text"
      },
      "source": [
        "**Away team predictions**"
      ]
    },
    {
      "cell_type": "code",
      "metadata": {
        "id": "KYYHgnQ1nAXI",
        "colab_type": "code",
        "colab": {}
      },
      "source": [
        "c = merged_df['rank_away'].values.reshape(-1,1)\n",
        "d = merged_df['away_score'].values"
      ],
      "execution_count": 0,
      "outputs": []
    },
    {
      "cell_type": "code",
      "metadata": {
        "id": "Sm9tjedxnPUM",
        "colab_type": "code",
        "colab": {}
      },
      "source": [
        "#splitting our dataset\n",
        "x_train, x_test, y_train, y_test = train_test_split(c, d, test_size = 0.2, random_state=0)"
      ],
      "execution_count": 0,
      "outputs": []
    },
    {
      "cell_type": "code",
      "metadata": {
        "id": "ebA7ZcXOnPkg",
        "colab_type": "code",
        "outputId": "6a25a1c8-4838-487d-8046-df1513dd3335",
        "colab": {
          "base_uri": "https://localhost:8080/",
          "height": 33
        }
      },
      "source": [
        "from sklearn.preprocessing import PolynomialFeatures\n",
        "polreg = PolynomialFeatures(degree = 6)\n",
        "poly = polreg.fit_transform(c)\n",
        "poly_r = LinearRegression()\n",
        "poly_r.fit(poly, d)"
      ],
      "execution_count": 556,
      "outputs": [
        {
          "output_type": "execute_result",
          "data": {
            "text/plain": [
              "LinearRegression(copy_X=True, fit_intercept=True, n_jobs=None, normalize=False)"
            ]
          },
          "metadata": {
            "tags": []
          },
          "execution_count": 556
        }
      ]
    },
    {
      "cell_type": "code",
      "metadata": {
        "id": "6Bs20Zo4nP0X",
        "colab_type": "code",
        "outputId": "36e0661e-849c-47a0-dbf5-a60369eacaf1",
        "colab": {
          "base_uri": "https://localhost:8080/",
          "height": 280
        }
      },
      "source": [
        "# Checking the prediction\n",
        "y_pred= poly_r.predict(poly)\n",
        "y_pred\n",
        "#a visualization of the Polynomial Regression results\n",
        "plt.scatter(x.iloc[:,0], y.iloc[:,0], color='orange')\n",
        "plt.plot(x, poly_r.predict(poly), color='blue')\n",
        "plt.xlabel('Team Rank')\n",
        "plt.ylabel('Score')\n",
        "plt.show()"
      ],
      "execution_count": 557,
      "outputs": [
        {
          "output_type": "display_data",
          "data": {
            "image/png": "[encoded data removed]",
            "text/plain": [
              "<Figure size 432x288 with 1 Axes>"
            ]
          },
          "metadata": {
            "tags": []
          }
        }
      ]
    },
    {
      "cell_type": "code",
      "metadata": {
        "id": "MQvroOtZnQCY",
        "colab_type": "code",
        "outputId": "cb1d0aeb-a972-40f7-e5d6-652da65d0f98",
        "colab": {
          "base_uri": "https://localhost:8080/",
          "height": 33
        }
      },
      "source": [
        "# calculating the RMSE to determine accuracy of the model\n",
        "from sklearn.metrics import mean_squared_error\n",
        "#\n",
        "RMSE = np.sqrt(mean_squared_error(y, y_pred))\n",
        "#\n",
        "print(RMSE)"
      ],
      "execution_count": 558,
      "outputs": [
        {
          "output_type": "stream",
          "text": [
            "0.9600334934332885\n"
          ],
          "name": "stdout"
        }
      ]
    },
    {
      "cell_type": "markdown",
      "metadata": {
        "id": "4SEoGcnKop9p",
        "colab_type": "text"
      },
      "source": [
        "# Conclussion\n"
      ]
    },
    {
      "cell_type": "markdown",
      "metadata": {
        "id": "mz93eIuwo02F",
        "colab_type": "text"
      },
      "source": [
        "Polynormial RMSE scores:\n",
        "* 0.9600334934332885(away)\n",
        "* 0.9171021108905066(home)\n",
        "\n",
        "Linear Regression RMSE:\n",
        "* 1.2885782587693015\n",
        "\n",
        "Logistic Regresion\n",
        "* Test set accuracy: 0.5822816972982129\n",
        "* Training set accuracy: 0.5767634854771784\n",
        "\n",
        "Since all our RMSE from linear and polynormial regression are lower than 1.0, we can say that our models have moderate accuracy and will need more columns to be increase their accuracy."
      ]
    }
  ]
}